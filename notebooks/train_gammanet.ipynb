{
 "cells": [
  {
   "cell_type": "markdown",
   "metadata": {},
   "source": [
    "# Train GammaNet with PyTorch"
   ]
  },
  {
   "cell_type": "code",
   "execution_count": 1,
   "metadata": {},
   "outputs": [],
   "source": [
    "import sys\n",
    "import numpy as np\n",
    "import h5py\n",
    "import torch \n",
    "import torch.nn as nn\n",
    "import torch.optim as optim\n",
    "import torch.nn.functional as F\n",
    "from torch.utils.data import Dataset, DataLoader\n",
    "import matplotlib.pyplot as plt\n",
    "sys.path.append(\"/home/liponan/projects/gammanet/\")\n",
    "from gammanet.simulate import sim_detector_image\n"
   ]
  },
  {
   "cell_type": "markdown",
   "metadata": {},
   "source": [
    "## Dataset"
   ]
  },
  {
   "cell_type": "markdown",
   "metadata": {},
   "source": [
    "### Define a dataset class"
   ]
  },
  {
   "cell_type": "code",
   "execution_count": 2,
   "metadata": {},
   "outputs": [],
   "source": [
    "class PhotonImages(Dataset):\n",
    "    \n",
    "    def __init__(self, data_h5, tensor=True):\n",
    "        self.tensor = tensor\n",
    "        with h5py.File(data_h5, \"r\") as f:\n",
    "            self.imgs = f[\"imgs\"][:]\n",
    "            self.labels = f[\"labels\"][:]\n",
    "            self.nhits = f[\"nhits\"][:]\n",
    "            \n",
    "    def __len__(self):\n",
    "        return self.imgs.shape[0]\n",
    "    \n",
    "    def make_label(self, idx):\n",
    "        label = np.zeros( (3, self.imgs.shape[1], self.imgs.shape[2]) )\n",
    "        for i in range(self.nhits[idx]):\n",
    "            ix = int(round(self.labels[idx,i,0]))\n",
    "            iy = int(round(self.labels[idx,i,1]))\n",
    "            if ix >= label.shape[2] or iy >= label.shape[1]:\n",
    "                continue\n",
    "            offset_x = self.labels[idx,i,0] - ix\n",
    "            offset_y = self.labels[idx,i,1] - iy\n",
    "            label[0, iy, ix] = 1\n",
    "            label[1, iy, ix] = offset_y\n",
    "            label[2, iy, ix] = offset_x\n",
    "        return label\n",
    "    \n",
    "    def __getitem__(self, idx):\n",
    "        img = self.imgs[np.newaxis,idx,:,:]\n",
    "        label = self.make_label(idx)\n",
    "        if self.tensor:\n",
    "            img = torch.from_numpy(img)\n",
    "            label = torch.from_numpy(label)\n",
    "        return img, label\n",
    "        "
   ]
  },
  {
   "cell_type": "markdown",
   "metadata": {},
   "source": [
    "### Test Dataset"
   ]
  },
  {
   "cell_type": "code",
   "execution_count": 3,
   "metadata": {},
   "outputs": [
    {
     "name": "stdout",
     "output_type": "stream",
     "text": [
      "x torch.Size([1, 32, 32])\n",
      "y torch.Size([3, 32, 32])\n"
     ]
    }
   ],
   "source": [
    "train_dataset = PhotonImages(\"train.h5\")\n",
    "x, y = train_dataset[0]\n",
    "print(\"x\", x.size())\n",
    "print(\"y\", y.size())"
   ]
  },
  {
   "cell_type": "code",
   "execution_count": 4,
   "metadata": {},
   "outputs": [
    {
     "data": {
      "text/plain": [
       "Text(0.5, 1.0, 'y-offset')"
      ]
     },
     "execution_count": 4,
     "metadata": {},
     "output_type": "execute_result"
    },
    {
     "data": {
      "image/png": "[encoded data removed]",
      "text/plain": [
       "<Figure size 936x288 with 4 Axes>"
      ]
     },
     "metadata": {
      "needs_background": "light"
     },
     "output_type": "display_data"
    }
   ],
   "source": [
    "fig = plt.figure()\n",
    "fig.set_size_inches(13, 4)\n",
    "plt.subplot(1, 4, 1)\n",
    "plt.imshow(x[0,:,:])\n",
    "plt.title(\"data\")\n",
    "plt.subplot(1, 4, 2)\n",
    "plt.imshow(y[0,:,:])\n",
    "plt.title(\"ground truth\")\n",
    "plt.subplot(1, 4, 3)\n",
    "plt.imshow(y[1,:,:], vmin=-0.5, vmax=0.5)\n",
    "# plt.colorbar()\n",
    "plt.title(\"x-offset\")\n",
    "plt.subplot(1, 4, 4)\n",
    "plt.imshow(y[2,:,:], vmin=-0.5, vmax=0.5)\n",
    "plt.title(\"y-offset\")\n",
    "# plt.colorbar()\n"
   ]
  },
  {
   "cell_type": "markdown",
   "metadata": {},
   "source": [
    "### Setup a Dataloader"
   ]
  },
  {
   "cell_type": "code",
   "execution_count": 5,
   "metadata": {},
   "outputs": [],
   "source": [
    "train_dataloader = DataLoader(train_dataset, batch_size=1024, shuffle=True, num_workers=2)"
   ]
  },
  {
   "cell_type": "markdown",
   "metadata": {},
   "source": [
    "## Loss function"
   ]
  },
  {
   "cell_type": "markdown",
   "metadata": {},
   "source": [
    "## Network"
   ]
  },
  {
   "cell_type": "code",
   "execution_count": 6,
   "metadata": {},
   "outputs": [],
   "source": [
    "def GammaNetLoss(scores, target, entropy=True):\n",
    "    if entropy:\n",
    "        loss = nn.BCEWithLogitsLoss()(scores.float(), target.float())\n",
    "    else:\n",
    "        scores = nn.Sigmoid()(scores)\n",
    "        loss = nn.MSELoss()(scores.float(), target.float())\n",
    "    return loss"
   ]
  },
  {
   "cell_type": "code",
   "execution_count": 7,
   "metadata": {},
   "outputs": [],
   "source": [
    "test_loss = GammaNetLoss(torch.rand(4,1,16,16), torch.rand(4,1,16,16))"
   ]
  },
  {
   "cell_type": "markdown",
   "metadata": {},
   "source": [
    "### Define network"
   ]
  },
  {
   "cell_type": "code",
   "execution_count": 8,
   "metadata": {},
   "outputs": [],
   "source": [
    "class conv1x1(nn.Module):\n",
    "    def __init__(self, n_in, n_out, activate=False, stride=1, bias=True):\n",
    "        super(conv1x1, self).__init__()\n",
    "        self.conv1 = nn.Conv2d(n_in, n_out, kernel_size=1, stride=stride, padding=0, bias=bias)\n",
    "        torch.nn.init.kaiming_normal_( self.conv1.weight )\n",
    "        self.bn1 = torch.nn.BatchNorm2d(n_out)\n",
    "        nn.init.constant_(self.bn1.weight, 1)\n",
    "        nn.init.constant_(self.bn1.bias, 0)\n",
    "        self.activate = activate\n",
    "\n",
    "    def forward(self,x):\n",
    "        x = self.bn1(self.conv1(x))\n",
    "        if self.activate:\n",
    "            x = F.relu(x)\n",
    "        return x    \n",
    "\n",
    "class conv3x3(nn.Module):\n",
    "    def __init__(self, n_in, n_out, activate=True, stride=1, bias=True):\n",
    "        super(conv3x3, self).__init__()\n",
    "        self.conv1 = nn.Conv2d(n_in, n_out, kernel_size=3, stride=stride, padding=1, bias=bias)\n",
    "        torch.nn.init.kaiming_normal_( self.conv1.weight )\n",
    "        self.bn1 = torch.nn.BatchNorm2d(n_out)\n",
    "        nn.init.constant_(self.bn1.weight, 1)\n",
    "        nn.init.constant_(self.bn1.bias, 0)\n",
    "        self.activate = activate\n",
    "\n",
    "    def forward(self,x):\n",
    "        x = self.bn1(self.conv1(x))\n",
    "        if self.activate:\n",
    "            x = F.relu(x)\n",
    "        return x\n",
    "\n",
    "\n",
    "class GammaNet(nn.Module):\n",
    "    def __init__(self, n_filters, n_hidden, n_in, n_out):\n",
    "        super(GammaNet, self).__init__()\n",
    "        self.input = conv3x3(n_in, n_filters)\n",
    "        self.output = conv1x1(n_filters, n_out)\n",
    "        layer = conv3x3(n_filters, n_filters)\n",
    "        self.hidden = nn.Sequential(\n",
    "            *[layer for i in range(n_hidden-1)]\n",
    "        )\n",
    "        \n",
    "    def forward(self, x):\n",
    "        x = self.input(x)\n",
    "        x = self.hidden(x)\n",
    "        x = self.output(x)\n",
    "        return x"
   ]
  },
  {
   "cell_type": "markdown",
   "metadata": {},
   "source": [
    "### Print net arch"
   ]
  },
  {
   "cell_type": "code",
   "execution_count": 10,
   "metadata": {},
   "outputs": [
    {
     "name": "stdout",
     "output_type": "stream",
     "text": [
      "GammaNet(\n",
      "  (input): conv3x3(\n",
      "    (conv1): Conv2d(1, 32, kernel_size=(3, 3), stride=(1, 1), padding=(1, 1))\n",
      "    (bn1): BatchNorm2d(32, eps=1e-05, momentum=0.1, affine=True, track_running_stats=True)\n",
      "  )\n",
      "  (output): conv1x1(\n",
      "    (conv1): Conv2d(32, 1, kernel_size=(1, 1), stride=(1, 1))\n",
      "    (bn1): BatchNorm2d(1, eps=1e-05, momentum=0.1, affine=True, track_running_stats=True)\n",
      "  )\n",
      "  (hidden): Sequential(\n",
      "    (0): conv3x3(\n",
      "      (conv1): Conv2d(32, 32, kernel_size=(3, 3), stride=(1, 1), padding=(1, 1))\n",
      "      (bn1): BatchNorm2d(32, eps=1e-05, momentum=0.1, affine=True, track_running_stats=True)\n",
      "    )\n",
      "    (1): conv3x3(\n",
      "      (conv1): Conv2d(32, 32, kernel_size=(3, 3), stride=(1, 1), padding=(1, 1))\n",
      "      (bn1): BatchNorm2d(32, eps=1e-05, momentum=0.1, affine=True, track_running_stats=True)\n",
      "    )\n",
      "    (2): conv3x3(\n",
      "      (conv1): Conv2d(32, 32, kernel_size=(3, 3), stride=(1, 1), padding=(1, 1))\n",
      "      (bn1): BatchNorm2d(32, eps=1e-05, momentum=0.1, affine=True, track_running_stats=True)\n",
      "    )\n",
      "    (3): conv3x3(\n",
      "      (conv1): Conv2d(32, 32, kernel_size=(3, 3), stride=(1, 1), padding=(1, 1))\n",
      "      (bn1): BatchNorm2d(32, eps=1e-05, momentum=0.1, affine=True, track_running_stats=True)\n",
      "    )\n",
      "  )\n",
      ")\n"
     ]
    }
   ],
   "source": [
    "model = GammaNet(n_filters=32, n_hidden=5, n_in=1, n_out=1)\n",
    "print(model)"
   ]
  },
  {
   "cell_type": "markdown",
   "metadata": {},
   "source": [
    "## Train the network"
   ]
  },
  {
   "cell_type": "markdown",
   "metadata": {},
   "source": [
    "### Parameters"
   ]
  },
  {
   "cell_type": "code",
   "execution_count": 14,
   "metadata": {},
   "outputs": [],
   "source": [
    "use_cuda = True\n",
    "gpu_id = \"cuda:1\"\n",
    "n_epochs = 500\n",
    "lr = 0.001\n",
    "l2_lambda = 1e-4"
   ]
  },
  {
   "cell_type": "markdown",
   "metadata": {},
   "source": [
    "### Optimizer"
   ]
  },
  {
   "cell_type": "code",
   "execution_count": 15,
   "metadata": {},
   "outputs": [],
   "source": [
    "optimizer = optim.Adam"
   ]
  },
  {
   "cell_type": "markdown",
   "metadata": {},
   "source": [
    "## Validation dataset"
   ]
  },
  {
   "cell_type": "code",
   "execution_count": 16,
   "metadata": {},
   "outputs": [],
   "source": [
    "val_dataset = PhotonImages(\"val.h5\")\n",
    "val_dataloader = DataLoader(val_dataset, batch_size=1024, shuffle=False, num_workers=1)"
   ]
  },
  {
   "cell_type": "markdown",
   "metadata": {},
   "source": [
    "### Run"
   ]
  },
  {
   "cell_type": "code",
   "execution_count": 17,
   "metadata": {},
   "outputs": [
    {
     "name": "stdout",
     "output_type": "stream",
     "text": [
      "epoch 0 seen 10240 val. loss 0.6382383108139038\n",
      "epoch 1 seen 20480 val. loss 0.6747307777404785\n",
      "epoch 2 seen 30720 val. loss 0.6766245365142822\n",
      "epoch 3 seen 40960 val. loss 0.6745631694793701\n",
      "epoch 4 seen 51200 val. loss 0.665546178817749\n",
      "epoch 5 seen 61440 val. loss 0.649969220161438\n",
      "epoch 6 seen 71680 val. loss 0.6367738842964172\n",
      "epoch 7 seen 81920 val. loss 0.6339958906173706\n",
      "epoch 8 seen 92160 val. loss 0.6371674537658691\n",
      "epoch 9 seen 102400 val. loss 0.6292175054550171\n",
      "epoch 10 seen 112640 val. loss 0.6212548613548279\n",
      "epoch 11 seen 122880 val. loss 0.6143060922622681\n",
      "epoch 12 seen 133120 val. loss 0.6091228723526001\n",
      "epoch 13 seen 143360 val. loss 0.6028875112533569\n",
      "epoch 14 seen 153600 val. loss 0.596738338470459\n",
      "epoch 15 seen 163840 val. loss 0.5876564979553223\n",
      "epoch 16 seen 174080 val. loss 0.5840704441070557\n",
      "epoch 17 seen 184320 val. loss 0.5807176828384399\n",
      "epoch 18 seen 194560 val. loss 0.5786942839622498\n",
      "epoch 19 seen 204800 val. loss 0.5718497037887573\n",
      "epoch 20 seen 215040 val. loss 0.56573885679245\n",
      "epoch 21 seen 225280 val. loss 0.560684323310852\n",
      "epoch 22 seen 235520 val. loss 0.5570297241210938\n",
      "epoch 23 seen 245760 val. loss 0.5512490272521973\n",
      "epoch 24 seen 256000 val. loss 0.5455378890037537\n",
      "epoch 25 seen 266240 val. loss 0.5415385961532593\n",
      "epoch 26 seen 276480 val. loss 0.535908579826355\n",
      "epoch 27 seen 286720 val. loss 0.5312284231185913\n",
      "epoch 28 seen 296960 val. loss 0.5269403457641602\n",
      "epoch 29 seen 307200 val. loss 0.522508978843689\n",
      "epoch 30 seen 317440 val. loss 0.5181301236152649\n",
      "epoch 31 seen 327680 val. loss 0.5135524272918701\n",
      "epoch 32 seen 337920 val. loss 0.5094424486160278\n",
      "epoch 33 seen 348160 val. loss 0.5036908388137817\n",
      "epoch 34 seen 358400 val. loss 0.4994029104709625\n",
      "epoch 35 seen 368640 val. loss 0.49670904874801636\n",
      "epoch 36 seen 378880 val. loss 0.4894733130931854\n",
      "epoch 37 seen 389120 val. loss 0.48556673526763916\n",
      "epoch 38 seen 399360 val. loss 0.481841504573822\n",
      "epoch 39 seen 409600 val. loss 0.4782229959964752\n",
      "epoch 40 seen 419840 val. loss 0.4744471609592438\n",
      "epoch 41 seen 430080 val. loss 0.47044673562049866\n",
      "epoch 42 seen 440320 val. loss 0.4663342237472534\n",
      "epoch 43 seen 450560 val. loss 0.4619787633419037\n",
      "epoch 44 seen 460800 val. loss 0.4587065577507019\n",
      "epoch 45 seen 471040 val. loss 0.4551611542701721\n",
      "epoch 46 seen 481280 val. loss 0.450358510017395\n",
      "epoch 47 seen 491520 val. loss 0.4477940797805786\n",
      "epoch 48 seen 501760 val. loss 0.44312453269958496\n",
      "epoch 49 seen 512000 val. loss 0.4397414028644562\n",
      "epoch 50 seen 522240 val. loss 0.4365343451499939\n",
      "epoch 51 seen 532480 val. loss 0.4332738518714905\n",
      "epoch 52 seen 542720 val. loss 0.4294663071632385\n",
      "epoch 53 seen 552960 val. loss 0.42617762088775635\n",
      "epoch 54 seen 563200 val. loss 0.4224960207939148\n",
      "epoch 55 seen 573440 val. loss 0.4192811846733093\n",
      "epoch 56 seen 583680 val. loss 0.41528838872909546\n",
      "epoch 57 seen 593920 val. loss 0.4101817011833191\n",
      "epoch 58 seen 604160 val. loss 0.40606194734573364\n",
      "epoch 59 seen 614400 val. loss 0.4051945209503174\n",
      "epoch 60 seen 624640 val. loss 0.4006322920322418\n",
      "epoch 61 seen 634880 val. loss 0.3962916135787964\n",
      "epoch 62 seen 645120 val. loss 0.39350396394729614\n",
      "epoch 63 seen 655360 val. loss 0.39020606875419617\n",
      "epoch 64 seen 665600 val. loss 0.387814998626709\n",
      "epoch 65 seen 675840 val. loss 0.3831195831298828\n",
      "epoch 66 seen 686080 val. loss 0.3766671419143677\n",
      "epoch 67 seen 696320 val. loss 0.37326884269714355\n",
      "epoch 68 seen 706560 val. loss 0.3703383207321167\n",
      "epoch 69 seen 716800 val. loss 0.3658078610897064\n",
      "epoch 70 seen 727040 val. loss 0.3632205128669739\n",
      "epoch 71 seen 737280 val. loss 0.3613966107368469\n",
      "epoch 72 seen 747520 val. loss 0.35779887437820435\n",
      "epoch 73 seen 757760 val. loss 0.3516652584075928\n",
      "epoch 74 seen 768000 val. loss 0.34991079568862915\n",
      "epoch 75 seen 778240 val. loss 0.3461976945400238\n",
      "epoch 76 seen 788480 val. loss 0.34423133730888367\n",
      "epoch 77 seen 798720 val. loss 0.34197860956192017\n",
      "epoch 78 seen 808960 val. loss 0.3389977216720581\n",
      "epoch 79 seen 819200 val. loss 0.3358142077922821\n",
      "epoch 80 seen 829440 val. loss 0.3325711488723755\n",
      "epoch 81 seen 839680 val. loss 0.3300897777080536\n",
      "epoch 82 seen 849920 val. loss 0.3265731930732727\n",
      "epoch 83 seen 860160 val. loss 0.3241877853870392\n",
      "epoch 84 seen 870400 val. loss 0.3217235803604126\n",
      "epoch 85 seen 880640 val. loss 0.3186139166355133\n",
      "epoch 86 seen 890880 val. loss 0.3169475495815277\n",
      "epoch 87 seen 901120 val. loss 0.3138352632522583\n",
      "epoch 88 seen 911360 val. loss 0.31088826060295105\n",
      "epoch 89 seen 921600 val. loss 0.30902987718582153\n",
      "epoch 90 seen 931840 val. loss 0.3059850335121155\n",
      "epoch 91 seen 942080 val. loss 0.30290281772613525\n",
      "epoch 92 seen 952320 val. loss 0.299270898103714\n",
      "epoch 93 seen 962560 val. loss 0.29796674847602844\n",
      "epoch 94 seen 972800 val. loss 0.29702624678611755\n",
      "epoch 95 seen 983040 val. loss 0.2931281328201294\n",
      "epoch 96 seen 993280 val. loss 0.28983181715011597\n",
      "epoch 97 seen 1003520 val. loss 0.288211852312088\n",
      "epoch 98 seen 1013760 val. loss 0.2861219644546509\n",
      "epoch 99 seen 1024000 val. loss 0.28221791982650757\n",
      "epoch 100 seen 1034240 val. loss 0.2810068726539612\n",
      "epoch 101 seen 1044480 val. loss 0.27825289964675903\n",
      "epoch 102 seen 1054720 val. loss 0.2770463228225708\n",
      "epoch 103 seen 1064960 val. loss 0.27254217863082886\n",
      "epoch 104 seen 1075200 val. loss 0.26937127113342285\n",
      "epoch 105 seen 1085440 val. loss 0.26712775230407715\n",
      "epoch 106 seen 1095680 val. loss 0.26397183537483215\n",
      "epoch 107 seen 1105920 val. loss 0.26285621523857117\n",
      "epoch 108 seen 1116160 val. loss 0.2587522268295288\n",
      "epoch 109 seen 1126400 val. loss 0.25815990567207336\n",
      "epoch 110 seen 1136640 val. loss 0.2545804977416992\n",
      "epoch 111 seen 1146880 val. loss 0.25295430421829224\n",
      "epoch 112 seen 1157120 val. loss 0.2505248785018921\n",
      "epoch 113 seen 1167360 val. loss 0.2456408590078354\n",
      "epoch 114 seen 1177600 val. loss 0.2452147901058197\n",
      "epoch 115 seen 1187840 val. loss 0.24300670623779297\n",
      "epoch 116 seen 1198080 val. loss 0.2413446009159088\n",
      "epoch 117 seen 1208320 val. loss 0.23795035481452942\n",
      "epoch 118 seen 1218560 val. loss 0.2364652156829834\n",
      "epoch 119 seen 1228800 val. loss 0.23356139659881592\n",
      "epoch 120 seen 1239040 val. loss 0.23266470432281494\n",
      "epoch 121 seen 1249280 val. loss 0.23025882244110107\n",
      "epoch 122 seen 1259520 val. loss 0.22723928093910217\n",
      "epoch 123 seen 1269760 val. loss 0.22584575414657593\n",
      "epoch 124 seen 1280000 val. loss 0.22424735128879547\n",
      "epoch 125 seen 1290240 val. loss 0.22046667337417603\n",
      "epoch 126 seen 1300480 val. loss 0.21826541423797607\n",
      "epoch 127 seen 1310720 val. loss 0.21775755286216736\n",
      "epoch 128 seen 1320960 val. loss 0.2142268419265747\n",
      "epoch 129 seen 1331200 val. loss 0.21262593567371368\n",
      "epoch 130 seen 1341440 val. loss 0.2114362269639969\n",
      "epoch 131 seen 1351680 val. loss 0.20910786092281342\n",
      "epoch 132 seen 1361920 val. loss 0.2072439193725586\n",
      "epoch 133 seen 1372160 val. loss 0.2051558494567871\n",
      "epoch 134 seen 1382400 val. loss 0.2013787031173706\n",
      "epoch 135 seen 1392640 val. loss 0.19843852519989014\n",
      "epoch 136 seen 1402880 val. loss 0.1969384253025055\n",
      "epoch 137 seen 1413120 val. loss 0.19566303491592407\n",
      "epoch 138 seen 1423360 val. loss 0.19567647576332092\n",
      "epoch 139 seen 1433600 val. loss 0.19191895425319672\n",
      "epoch 140 seen 1443840 val. loss 0.19169092178344727\n",
      "epoch 141 seen 1454080 val. loss 0.18866604566574097\n",
      "epoch 142 seen 1464320 val. loss 0.18749964237213135\n",
      "epoch 143 seen 1474560 val. loss 0.18549269437789917\n",
      "epoch 144 seen 1484800 val. loss 0.1842188835144043\n",
      "epoch 145 seen 1495040 val. loss 0.1826896071434021\n",
      "epoch 146 seen 1505280 val. loss 0.18138769268989563\n",
      "epoch 147 seen 1515520 val. loss 0.17729899287223816\n",
      "epoch 148 seen 1525760 val. loss 0.17656204104423523\n",
      "epoch 149 seen 1536000 val. loss 0.17641925811767578\n",
      "epoch 150 seen 1546240 val. loss 0.17419783771038055\n",
      "epoch 151 seen 1556480 val. loss 0.1722135841846466\n",
      "epoch 152 seen 1566720 val. loss 0.1712530106306076\n",
      "epoch 153 seen 1576960 val. loss 0.16741372644901276\n",
      "epoch 154 seen 1587200 val. loss 0.16573473811149597\n",
      "epoch 155 seen 1597440 val. loss 0.16494131088256836\n",
      "epoch 156 seen 1607680 val. loss 0.1646013855934143\n",
      "epoch 157 seen 1617920 val. loss 0.16300807893276215\n",
      "epoch 158 seen 1628160 val. loss 0.16135354340076447\n",
      "epoch 159 seen 1638400 val. loss 0.16032078862190247\n",
      "epoch 160 seen 1648640 val. loss 0.15671411156654358\n"
     ]
    },
    {
     "name": "stdout",
     "output_type": "stream",
     "text": [
      "epoch 161 seen 1658880 val. loss 0.15690085291862488\n",
      "epoch 162 seen 1669120 val. loss 0.1545935720205307\n",
      "epoch 163 seen 1679360 val. loss 0.15232783555984497\n",
      "epoch 164 seen 1689600 val. loss 0.15071237087249756\n",
      "epoch 165 seen 1699840 val. loss 0.15007710456848145\n",
      "epoch 166 seen 1710080 val. loss 0.14896930754184723\n",
      "epoch 167 seen 1720320 val. loss 0.14608050882816315\n",
      "epoch 168 seen 1730560 val. loss 0.14620187878608704\n",
      "epoch 169 seen 1740800 val. loss 0.14317947626113892\n",
      "epoch 170 seen 1751040 val. loss 0.14171013236045837\n",
      "epoch 171 seen 1761280 val. loss 0.1395968198776245\n",
      "epoch 172 seen 1771520 val. loss 0.1401205062866211\n",
      "epoch 173 seen 1781760 val. loss 0.13823570311069489\n",
      "epoch 174 seen 1792000 val. loss 0.13710355758666992\n",
      "epoch 175 seen 1802240 val. loss 0.13585764169692993\n",
      "epoch 176 seen 1812480 val. loss 0.1368587464094162\n",
      "epoch 177 seen 1822720 val. loss 0.13347622752189636\n",
      "epoch 178 seen 1832960 val. loss 0.13185501098632812\n",
      "epoch 179 seen 1843200 val. loss 0.12989071011543274\n",
      "epoch 180 seen 1853440 val. loss 0.13032397627830505\n",
      "epoch 181 seen 1863680 val. loss 0.1293751746416092\n",
      "epoch 182 seen 1873920 val. loss 0.12463037669658661\n",
      "epoch 183 seen 1884160 val. loss 0.12474385648965836\n",
      "epoch 184 seen 1894400 val. loss 0.12344343960285187\n",
      "epoch 185 seen 1904640 val. loss 0.12344326078891754\n",
      "epoch 186 seen 1914880 val. loss 0.12067011743783951\n",
      "epoch 187 seen 1925120 val. loss 0.12119964510202408\n",
      "epoch 188 seen 1935360 val. loss 0.11857384443283081\n",
      "epoch 189 seen 1945600 val. loss 0.11715356260538101\n",
      "epoch 190 seen 1955840 val. loss 0.11609386652708054\n",
      "epoch 191 seen 1966080 val. loss 0.11515890061855316\n",
      "epoch 192 seen 1976320 val. loss 0.11332626640796661\n",
      "epoch 193 seen 1986560 val. loss 0.11252841353416443\n",
      "epoch 194 seen 1996800 val. loss 0.11336223781108856\n",
      "epoch 195 seen 2007040 val. loss 0.11097406595945358\n",
      "epoch 196 seen 2017280 val. loss 0.10959844291210175\n",
      "epoch 197 seen 2027520 val. loss 0.10981952399015427\n",
      "epoch 198 seen 2037760 val. loss 0.10886362195014954\n",
      "epoch 199 seen 2048000 val. loss 0.10821537673473358\n",
      "epoch 200 seen 2058240 val. loss 0.10737941414117813\n",
      "epoch 201 seen 2068480 val. loss 0.10651753097772598\n",
      "epoch 202 seen 2078720 val. loss 0.10635071992874146\n",
      "epoch 203 seen 2088960 val. loss 0.10631294548511505\n",
      "epoch 204 seen 2099200 val. loss 0.10616005212068558\n",
      "epoch 205 seen 2109440 val. loss 0.10573865473270416\n",
      "epoch 206 seen 2119680 val. loss 0.10578672587871552\n",
      "epoch 207 seen 2129920 val. loss 0.10558776557445526\n",
      "epoch 208 seen 2140160 val. loss 0.10563747584819794\n",
      "epoch 209 seen 2150400 val. loss 0.10587029159069061\n",
      "epoch 210 seen 2160640 val. loss 0.10537213832139969\n",
      "epoch 211 seen 2170880 val. loss 0.10532381385564804\n",
      "epoch 212 seen 2181120 val. loss 0.10536311566829681\n",
      "epoch 213 seen 2191360 val. loss 0.10512550175189972\n",
      "epoch 214 seen 2201600 val. loss 0.10494886338710785\n",
      "epoch 215 seen 2211840 val. loss 0.10482913255691528\n",
      "epoch 216 seen 2222080 val. loss 0.10474669188261032\n",
      "epoch 217 seen 2232320 val. loss 0.10447295010089874\n",
      "epoch 218 seen 2242560 val. loss 0.10430674254894257\n",
      "epoch 219 seen 2252800 val. loss 0.10461841523647308\n",
      "epoch 220 seen 2263040 val. loss 0.1045999601483345\n",
      "epoch 221 seen 2273280 val. loss 0.1043652817606926\n",
      "epoch 222 seen 2283520 val. loss 0.10441352427005768\n",
      "epoch 223 seen 2293760 val. loss 0.10417121648788452\n",
      "epoch 224 seen 2304000 val. loss 0.10429046303033829\n",
      "epoch 225 seen 2314240 val. loss 0.1039726734161377\n",
      "epoch 226 seen 2324480 val. loss 0.10380832105875015\n",
      "epoch 227 seen 2334720 val. loss 0.10410601645708084\n",
      "epoch 228 seen 2344960 val. loss 0.10349051654338837\n",
      "epoch 229 seen 2355200 val. loss 0.1034039780497551\n",
      "epoch 230 seen 2365440 val. loss 0.1034991666674614\n",
      "epoch 231 seen 2375680 val. loss 0.10323922336101532\n",
      "epoch 232 seen 2385920 val. loss 0.10357096791267395\n",
      "epoch 233 seen 2396160 val. loss 0.10319554805755615\n",
      "epoch 234 seen 2406400 val. loss 0.10325944423675537\n",
      "epoch 235 seen 2416640 val. loss 0.10327449440956116\n",
      "epoch 236 seen 2426880 val. loss 0.10315470397472382\n",
      "epoch 237 seen 2437120 val. loss 0.10337258130311966\n",
      "epoch 238 seen 2447360 val. loss 0.1032382920384407\n",
      "epoch 239 seen 2457600 val. loss 0.1029520034790039\n",
      "epoch 240 seen 2467840 val. loss 0.10278218239545822\n",
      "epoch 241 seen 2478080 val. loss 0.10268167406320572\n",
      "epoch 242 seen 2488320 val. loss 0.10283774137496948\n",
      "epoch 243 seen 2498560 val. loss 0.10223785042762756\n",
      "epoch 244 seen 2508800 val. loss 0.10223032534122467\n",
      "epoch 245 seen 2519040 val. loss 0.10225051641464233\n",
      "epoch 246 seen 2529280 val. loss 0.10220855474472046\n",
      "epoch 247 seen 2539520 val. loss 0.10198045521974564\n",
      "epoch 248 seen 2549760 val. loss 0.10192695260047913\n",
      "epoch 249 seen 2560000 val. loss 0.1021244004368782\n",
      "epoch 250 seen 2570240 val. loss 0.10181628912687302\n",
      "epoch 251 seen 2580480 val. loss 0.10146823525428772\n",
      "epoch 252 seen 2590720 val. loss 0.10140594094991684\n",
      "epoch 253 seen 2600960 val. loss 0.1019660234451294\n",
      "epoch 254 seen 2611200 val. loss 0.10134017467498779\n",
      "epoch 255 seen 2621440 val. loss 0.10154906660318375\n",
      "epoch 256 seen 2631680 val. loss 0.10125865042209625\n",
      "epoch 257 seen 2641920 val. loss 0.10118266940116882\n",
      "epoch 258 seen 2652160 val. loss 0.10124384611845016\n",
      "epoch 259 seen 2662400 val. loss 0.10092377662658691\n",
      "epoch 260 seen 2672640 val. loss 0.10094135999679565\n",
      "epoch 261 seen 2682880 val. loss 0.10039636492729187\n",
      "epoch 262 seen 2693120 val. loss 0.10081008076667786\n",
      "epoch 263 seen 2703360 val. loss 0.10063968598842621\n",
      "epoch 264 seen 2713600 val. loss 0.10011741518974304\n",
      "epoch 265 seen 2723840 val. loss 0.10038882493972778\n",
      "epoch 266 seen 2734080 val. loss 0.10012932121753693\n",
      "epoch 267 seen 2744320 val. loss 0.10035476833581924\n",
      "epoch 268 seen 2754560 val. loss 0.1000794917345047\n",
      "epoch 269 seen 2764800 val. loss 0.09993819892406464\n",
      "epoch 270 seen 2775040 val. loss 0.10008229315280914\n",
      "epoch 271 seen 2785280 val. loss 0.09992454946041107\n",
      "epoch 272 seen 2795520 val. loss 0.09956122934818268\n",
      "epoch 273 seen 2805760 val. loss 0.09973108023405075\n",
      "epoch 274 seen 2816000 val. loss 0.09982694685459137\n",
      "epoch 275 seen 2826240 val. loss 0.09978385269641876\n",
      "epoch 276 seen 2836480 val. loss 0.09977409243583679\n",
      "epoch 277 seen 2846720 val. loss 0.09954489767551422\n",
      "epoch 278 seen 2856960 val. loss 0.09900932759046555\n",
      "epoch 279 seen 2867200 val. loss 0.09902488440275192\n",
      "epoch 280 seen 2877440 val. loss 0.09901493042707443\n",
      "epoch 281 seen 2887680 val. loss 0.09887093305587769\n",
      "epoch 282 seen 2897920 val. loss 0.09893407672643661\n",
      "epoch 283 seen 2908160 val. loss 0.09899957478046417\n",
      "epoch 284 seen 2918400 val. loss 0.09886950254440308\n",
      "epoch 285 seen 2928640 val. loss 0.09872277826070786\n",
      "epoch 286 seen 2938880 val. loss 0.0985555425286293\n",
      "epoch 287 seen 2949120 val. loss 0.0983649268746376\n",
      "epoch 288 seen 2959360 val. loss 0.09857168793678284\n",
      "epoch 289 seen 2969600 val. loss 0.09835048764944077\n",
      "epoch 290 seen 2979840 val. loss 0.09846039116382599\n",
      "epoch 291 seen 2990080 val. loss 0.09831711649894714\n",
      "epoch 292 seen 3000320 val. loss 0.09835745394229889\n",
      "epoch 293 seen 3010560 val. loss 0.09784220904111862\n",
      "epoch 294 seen 3020800 val. loss 0.0980365201830864\n",
      "epoch 295 seen 3031040 val. loss 0.09786271303892136\n",
      "epoch 296 seen 3041280 val. loss 0.09766251593828201\n",
      "epoch 297 seen 3051520 val. loss 0.09762004017829895\n",
      "epoch 298 seen 3061760 val. loss 0.09786827862262726\n",
      "epoch 299 seen 3072000 val. loss 0.09784889221191406\n",
      "epoch 300 seen 3082240 val. loss 0.0978083461523056\n",
      "epoch 301 seen 3092480 val. loss 0.09749114513397217\n",
      "epoch 302 seen 3102720 val. loss 0.09750539064407349\n",
      "epoch 303 seen 3112960 val. loss 0.09722023457288742\n",
      "epoch 304 seen 3123200 val. loss 0.09699475765228271\n",
      "epoch 305 seen 3133440 val. loss 0.09705351293087006\n",
      "epoch 306 seen 3143680 val. loss 0.09681552648544312\n",
      "epoch 307 seen 3153920 val. loss 0.09690923988819122\n",
      "epoch 308 seen 3164160 val. loss 0.09693583846092224\n",
      "epoch 309 seen 3174400 val. loss 0.09673432260751724\n",
      "epoch 310 seen 3184640 val. loss 0.0967164859175682\n",
      "epoch 311 seen 3194880 val. loss 0.09623915702104568\n",
      "epoch 312 seen 3205120 val. loss 0.09637250006198883\n",
      "epoch 313 seen 3215360 val. loss 0.09656301140785217\n",
      "epoch 314 seen 3225600 val. loss 0.09615872800350189\n",
      "epoch 315 seen 3235840 val. loss 0.09637793898582458\n"
     ]
    },
    {
     "name": "stdout",
     "output_type": "stream",
     "text": [
      "epoch 316 seen 3246080 val. loss 0.09592454880475998\n",
      "epoch 317 seen 3256320 val. loss 0.09591100364923477\n",
      "epoch 318 seen 3266560 val. loss 0.09594279527664185\n",
      "epoch 319 seen 3276800 val. loss 0.09563460946083069\n",
      "epoch 320 seen 3287040 val. loss 0.09605559706687927\n",
      "epoch 321 seen 3297280 val. loss 0.09571394324302673\n",
      "epoch 322 seen 3307520 val. loss 0.09565740823745728\n",
      "epoch 323 seen 3317760 val. loss 0.09604018926620483\n",
      "epoch 324 seen 3328000 val. loss 0.09542270004749298\n",
      "epoch 325 seen 3338240 val. loss 0.09539622068405151\n",
      "epoch 326 seen 3348480 val. loss 0.09539388120174408\n",
      "epoch 327 seen 3358720 val. loss 0.0950927734375\n",
      "epoch 328 seen 3368960 val. loss 0.09560080617666245\n",
      "epoch 329 seen 3379200 val. loss 0.09498865157365799\n",
      "epoch 330 seen 3389440 val. loss 0.09513332694768906\n",
      "epoch 331 seen 3399680 val. loss 0.09524184465408325\n",
      "epoch 332 seen 3409920 val. loss 0.09492304921150208\n",
      "epoch 333 seen 3420160 val. loss 0.09473519027233124\n",
      "epoch 334 seen 3430400 val. loss 0.09462141245603561\n",
      "epoch 335 seen 3440640 val. loss 0.09461581707000732\n",
      "epoch 336 seen 3450880 val. loss 0.09438499063253403\n",
      "epoch 337 seen 3461120 val. loss 0.09452477097511292\n",
      "epoch 338 seen 3471360 val. loss 0.0944938063621521\n",
      "epoch 339 seen 3481600 val. loss 0.09431734681129456\n",
      "epoch 340 seen 3491840 val. loss 0.09433580935001373\n",
      "epoch 341 seen 3502080 val. loss 0.09450232982635498\n",
      "epoch 342 seen 3512320 val. loss 0.09393475949764252\n",
      "epoch 343 seen 3522560 val. loss 0.09429523348808289\n",
      "epoch 344 seen 3532800 val. loss 0.09420222789049149\n",
      "epoch 345 seen 3543040 val. loss 0.0943814367055893\n",
      "epoch 346 seen 3553280 val. loss 0.09402097761631012\n",
      "epoch 347 seen 3563520 val. loss 0.0942421704530716\n",
      "epoch 348 seen 3573760 val. loss 0.0939544290304184\n",
      "epoch 349 seen 3584000 val. loss 0.09368354082107544\n",
      "epoch 350 seen 3594240 val. loss 0.09369909763336182\n",
      "epoch 351 seen 3604480 val. loss 0.09350810199975967\n",
      "epoch 352 seen 3614720 val. loss 0.09364300966262817\n",
      "epoch 353 seen 3624960 val. loss 0.09356796741485596\n",
      "epoch 354 seen 3635200 val. loss 0.09325113892555237\n",
      "epoch 355 seen 3645440 val. loss 0.09328141063451767\n",
      "epoch 356 seen 3655680 val. loss 0.09315662086009979\n",
      "epoch 357 seen 3665920 val. loss 0.09330194443464279\n",
      "epoch 358 seen 3676160 val. loss 0.09251108765602112\n",
      "epoch 359 seen 3686400 val. loss 0.09306317567825317\n",
      "epoch 360 seen 3696640 val. loss 0.09268634021282196\n",
      "epoch 361 seen 3706880 val. loss 0.09290352463722229\n",
      "epoch 362 seen 3717120 val. loss 0.0925302729010582\n",
      "epoch 363 seen 3727360 val. loss 0.09256713837385178\n",
      "epoch 364 seen 3737600 val. loss 0.09236231446266174\n",
      "epoch 365 seen 3747840 val. loss 0.09233840554952621\n",
      "epoch 366 seen 3758080 val. loss 0.09223967790603638\n",
      "epoch 367 seen 3768320 val. loss 0.0925675630569458\n",
      "epoch 368 seen 3778560 val. loss 0.09221548587083817\n",
      "epoch 369 seen 3788800 val. loss 0.0919143334031105\n",
      "epoch 370 seen 3799040 val. loss 0.09193356335163116\n",
      "epoch 371 seen 3809280 val. loss 0.09183861315250397\n",
      "epoch 372 seen 3819520 val. loss 0.09188443422317505\n",
      "epoch 373 seen 3829760 val. loss 0.09179816395044327\n",
      "epoch 374 seen 3840000 val. loss 0.09143999963998795\n",
      "epoch 375 seen 3850240 val. loss 0.091805100440979\n",
      "epoch 376 seen 3860480 val. loss 0.09153244644403458\n",
      "epoch 377 seen 3870720 val. loss 0.09174050390720367\n",
      "epoch 378 seen 3880960 val. loss 0.09142248332500458\n",
      "epoch 379 seen 3891200 val. loss 0.091280996799469\n",
      "epoch 380 seen 3901440 val. loss 0.09128736704587936\n",
      "epoch 381 seen 3911680 val. loss 0.09101760387420654\n",
      "epoch 382 seen 3921920 val. loss 0.09106387197971344\n",
      "epoch 383 seen 3932160 val. loss 0.09135047346353531\n",
      "epoch 384 seen 3942400 val. loss 0.09085194766521454\n",
      "epoch 385 seen 3952640 val. loss 0.0909118726849556\n",
      "epoch 386 seen 3962880 val. loss 0.0908658355474472\n",
      "epoch 387 seen 3973120 val. loss 0.090761199593544\n",
      "epoch 388 seen 3983360 val. loss 0.09100323170423508\n",
      "epoch 389 seen 3993600 val. loss 0.09099220484495163\n",
      "epoch 390 seen 4003840 val. loss 0.09101813286542892\n",
      "epoch 391 seen 4014080 val. loss 0.09050514549016953\n",
      "epoch 392 seen 4024320 val. loss 0.09052349627017975\n",
      "epoch 393 seen 4034560 val. loss 0.09056203067302704\n",
      "epoch 394 seen 4044800 val. loss 0.09029616415500641\n",
      "epoch 395 seen 4055040 val. loss 0.0901741310954094\n",
      "epoch 396 seen 4065280 val. loss 0.0903199166059494\n",
      "epoch 397 seen 4075520 val. loss 0.09004722535610199\n",
      "epoch 398 seen 4085760 val. loss 0.0899665430188179\n",
      "epoch 399 seen 4096000 val. loss 0.08959217369556427\n",
      "epoch 400 seen 4106240 val. loss 0.0899161770939827\n",
      "epoch 401 seen 4116480 val. loss 0.08992473781108856\n",
      "epoch 402 seen 4126720 val. loss 0.08995725214481354\n",
      "epoch 403 seen 4136960 val. loss 0.08994698524475098\n",
      "epoch 404 seen 4147200 val. loss 0.09002286940813065\n",
      "epoch 405 seen 4157440 val. loss 0.08998824656009674\n",
      "epoch 406 seen 4167680 val. loss 0.09001621603965759\n",
      "epoch 407 seen 4177920 val. loss 0.08997225016355515\n",
      "epoch 408 seen 4188160 val. loss 0.08994560688734055\n",
      "epoch 409 seen 4198400 val. loss 0.09001259505748749\n",
      "epoch 410 seen 4208640 val. loss 0.09005103260278702\n",
      "epoch 411 seen 4218880 val. loss 0.09003022313117981\n",
      "epoch 412 seen 4229120 val. loss 0.09001994878053665\n",
      "epoch 413 seen 4239360 val. loss 0.09002387523651123\n",
      "epoch 414 seen 4249600 val. loss 0.09006413072347641\n",
      "epoch 415 seen 4259840 val. loss 0.08998711407184601\n",
      "epoch 416 seen 4270080 val. loss 0.08994200825691223\n",
      "epoch 417 seen 4280320 val. loss 0.0899849608540535\n",
      "epoch 418 seen 4290560 val. loss 0.08997436612844467\n",
      "epoch 419 seen 4300800 val. loss 0.09000661969184875\n",
      "epoch 420 seen 4311040 val. loss 0.08997029811143875\n",
      "epoch 421 seen 4321280 val. loss 0.08995089679956436\n",
      "epoch 422 seen 4331520 val. loss 0.08999060094356537\n",
      "epoch 423 seen 4341760 val. loss 0.0899818167090416\n",
      "epoch 424 seen 4352000 val. loss 0.08990883827209473\n",
      "epoch 425 seen 4362240 val. loss 0.08995572477579117\n",
      "epoch 426 seen 4372480 val. loss 0.08998341113328934\n",
      "epoch 427 seen 4382720 val. loss 0.08995753526687622\n",
      "epoch 428 seen 4392960 val. loss 0.08995454013347626\n",
      "epoch 429 seen 4403200 val. loss 0.08988906443119049\n",
      "epoch 430 seen 4413440 val. loss 0.0898844301700592\n",
      "epoch 431 seen 4423680 val. loss 0.08994525671005249\n",
      "epoch 432 seen 4433920 val. loss 0.08987846970558167\n",
      "epoch 433 seen 4444160 val. loss 0.08981388062238693\n",
      "epoch 434 seen 4454400 val. loss 0.0898527204990387\n",
      "epoch 435 seen 4464640 val. loss 0.08983920514583588\n",
      "epoch 436 seen 4474880 val. loss 0.08984996378421783\n",
      "epoch 437 seen 4485120 val. loss 0.08984572440385818\n",
      "epoch 438 seen 4495360 val. loss 0.08987754583358765\n",
      "epoch 439 seen 4505600 val. loss 0.08989892899990082\n",
      "epoch 440 seen 4515840 val. loss 0.08984388411045074\n",
      "epoch 441 seen 4526080 val. loss 0.08980028331279755\n",
      "epoch 442 seen 4536320 val. loss 0.08980296552181244\n",
      "epoch 443 seen 4546560 val. loss 0.08983723819255829\n",
      "epoch 444 seen 4556800 val. loss 0.08982609212398529\n",
      "epoch 445 seen 4567040 val. loss 0.08985848724842072\n",
      "epoch 446 seen 4577280 val. loss 0.08983825892210007\n",
      "epoch 447 seen 4587520 val. loss 0.0897853821516037\n",
      "epoch 448 seen 4597760 val. loss 0.08978530764579773\n",
      "epoch 449 seen 4608000 val. loss 0.0898112952709198\n",
      "epoch 450 seen 4618240 val. loss 0.08982090651988983\n",
      "epoch 451 seen 4628480 val. loss 0.08978620916604996\n",
      "epoch 452 seen 4638720 val. loss 0.08980072289705276\n",
      "epoch 453 seen 4648960 val. loss 0.08982387185096741\n",
      "epoch 454 seen 4659200 val. loss 0.08979721367359161\n",
      "epoch 455 seen 4669440 val. loss 0.08982071280479431\n",
      "epoch 456 seen 4679680 val. loss 0.08976732194423676\n",
      "epoch 457 seen 4689920 val. loss 0.08978116512298584\n",
      "epoch 458 seen 4700160 val. loss 0.08973012119531631\n",
      "epoch 459 seen 4710400 val. loss 0.08970554918050766\n",
      "epoch 460 seen 4720640 val. loss 0.08976432681083679\n",
      "epoch 461 seen 4730880 val. loss 0.08977046608924866\n",
      "epoch 462 seen 4741120 val. loss 0.0897243395447731\n",
      "epoch 463 seen 4751360 val. loss 0.08974358439445496\n",
      "epoch 464 seen 4761600 val. loss 0.08971984684467316\n",
      "epoch 465 seen 4771840 val. loss 0.0897301584482193\n",
      "epoch 466 seen 4782080 val. loss 0.08970816433429718\n",
      "epoch 467 seen 4792320 val. loss 0.08971188962459564\n",
      "epoch 468 seen 4802560 val. loss 0.08969445526599884\n",
      "epoch 469 seen 4812800 val. loss 0.08970153331756592\n",
      "epoch 470 seen 4823040 val. loss 0.0897512435913086\n",
      "epoch 471 seen 4833280 val. loss 0.08974121510982513\n"
     ]
    },
    {
     "name": "stdout",
     "output_type": "stream",
     "text": [
      "epoch 472 seen 4843520 val. loss 0.08968563377857208\n",
      "epoch 473 seen 4853760 val. loss 0.08970720320940018\n",
      "epoch 474 seen 4864000 val. loss 0.08973778039216995\n",
      "epoch 475 seen 4874240 val. loss 0.08969323337078094\n",
      "epoch 476 seen 4884480 val. loss 0.08974634110927582\n",
      "epoch 477 seen 4894720 val. loss 0.08966325223445892\n",
      "epoch 478 seen 4904960 val. loss 0.08966748416423798\n",
      "epoch 479 seen 4915200 val. loss 0.08967132121324539\n",
      "epoch 480 seen 4925440 val. loss 0.08960380405187607\n",
      "epoch 481 seen 4935680 val. loss 0.08963127434253693\n",
      "epoch 482 seen 4945920 val. loss 0.08963756263256073\n",
      "epoch 483 seen 4956160 val. loss 0.08965396881103516\n",
      "epoch 484 seen 4966400 val. loss 0.08966314792633057\n",
      "epoch 485 seen 4976640 val. loss 0.08961422741413116\n",
      "epoch 486 seen 4986880 val. loss 0.0896269679069519\n",
      "epoch 487 seen 4997120 val. loss 0.08962348103523254\n",
      "epoch 488 seen 5007360 val. loss 0.08964642137289047\n",
      "epoch 489 seen 5017600 val. loss 0.08956457674503326\n",
      "epoch 490 seen 5027840 val. loss 0.08953210711479187\n",
      "epoch 491 seen 5038080 val. loss 0.08954225480556488\n",
      "epoch 492 seen 5048320 val. loss 0.08956153690814972\n",
      "epoch 493 seen 5058560 val. loss 0.08966491371393204\n",
      "epoch 494 seen 5068800 val. loss 0.08963785320520401\n",
      "epoch 495 seen 5079040 val. loss 0.08962147682905197\n",
      "epoch 496 seen 5089280 val. loss 0.0896381139755249\n",
      "epoch 497 seen 5099520 val. loss 0.08961346000432968\n",
      "epoch 498 seen 5109760 val. loss 0.08956396579742432\n",
      "epoch 499 seen 5120000 val. loss 0.08953803777694702\n"
     ]
    }
   ],
   "source": [
    "if use_cuda:\n",
    "    model.to(gpu_id)\n",
    "    \n",
    "seen = 0\n",
    "train_loss_list = []\n",
    "val_loss_list = []\n",
    "    \n",
    "for epoch in range(n_epochs):\n",
    "    if epoch % 200 == 0 and epoch > 0:\n",
    "        lr /= 10.0\n",
    "    for i, (x,y) in enumerate(train_dataloader):\n",
    "        my_optimizer = optimizer(model.parameters(), lr=lr, weight_decay=l2_lambda)\n",
    "        if use_cuda:\n",
    "            x = x.to(gpu_id)\n",
    "            y = y.to(gpu_id)\n",
    "        model.train()\n",
    "        my_optimizer.zero_grad()\n",
    "        scores = model(x)\n",
    "        loss = GammaNetLoss(scores, y[:,[0],:,:], entropy=True)\n",
    "        loss.backward()\n",
    "        my_optimizer.step()\n",
    "        seen += x.size(0)\n",
    "#         print(\"epoch\", epoch, \"iteration\", i, \"seen\", seen, \"loss\", float(loss.data))\n",
    "        train_loss_list.append((seen, float(loss.data)))\n",
    "    with torch.no_grad():\n",
    "        model.eval()\n",
    "        val_loss = 0\n",
    "        val_seen = 0\n",
    "        for j, (x,y) in enumerate(val_dataloader):\n",
    "            if use_cuda:\n",
    "                x = x.to(gpu_id)\n",
    "                y = y.to(gpu_id)\n",
    "            scores = model(x)\n",
    "            loss = GammaNetLoss(scores, y[:,[0],:,:], entropy=True)\n",
    "            val_seen += x.size(0)\n",
    "            val_loss += x.size(0) * float(loss.data)\n",
    "        val_loss /= val_seen\n",
    "        val_loss_list.append((seen, val_loss))\n",
    "        print(\"epoch\", epoch, \"seen\", seen, \"val. loss\", float(val_loss))\n",
    "            "
   ]
  },
  {
   "cell_type": "code",
   "execution_count": 18,
   "metadata": {},
   "outputs": [
    {
     "data": {
      "text/plain": [
       "(5000, 2)"
      ]
     },
     "execution_count": 18,
     "metadata": {},
     "output_type": "execute_result"
    }
   ],
   "source": [
    "np.array(train_loss_list).shape"
   ]
  },
  {
   "cell_type": "code",
   "execution_count": 20,
   "metadata": {},
   "outputs": [
    {
     "data": {
      "image/png": "[encoded data removed]",
      "text/plain": [
       "<Figure size 432x288 with 1 Axes>"
      ]
     },
     "metadata": {
      "needs_background": "light"
     },
     "output_type": "display_data"
    }
   ],
   "source": [
    "fig = plt.figure()\n",
    "plt.semilogy(np.array(train_loss_list)[:,0], np.array(train_loss_list)[:,1], label=\"train loss\")\n",
    "plt.semilogy(np.array(val_loss_list)[:,0], np.array(val_loss_list)[:,1], label=\"val loss\")\n",
    "plt.xlabel(\"seen\")\n",
    "plt.ylabel(\"loss\")\n",
    "plt.legend()\n",
    "plt.grid()"
   ]
  },
  {
   "cell_type": "markdown",
   "metadata": {},
   "source": [
    "### Visualize on-the-fly data"
   ]
  },
  {
   "cell_type": "code",
   "execution_count": 21,
   "metadata": {},
   "outputs": [],
   "source": [
    "with torch.no_grad():\n",
    "    x_np = x.cpu().numpy()\n",
    "    y_np = y.cpu().numpy()\n",
    "    scores_np = nn.Sigmoid()(scores).cpu().detach().numpy()"
   ]
  },
  {
   "cell_type": "code",
   "execution_count": 22,
   "metadata": {},
   "outputs": [
    {
     "data": {
      "text/plain": [
       "Text(0.5, 1.0, 'prediction')"
      ]
     },
     "execution_count": 22,
     "metadata": {},
     "output_type": "execute_result"
    },
    {
     "data": {
      "image/png": "[encoded data removed]",
      "text/plain": [
       "<Figure size 936x288 with 3 Axes>"
      ]
     },
     "metadata": {
      "needs_background": "light"
     },
     "output_type": "display_data"
    }
   ],
   "source": [
    "fig = plt.figure()\n",
    "fig.set_size_inches(13, 4)\n",
    "plt.subplot(1, 3, 1)\n",
    "plt.imshow(x_np[0,0,:,:])\n",
    "plt.title(\"data\")\n",
    "plt.subplot(1, 3, 2)\n",
    "plt.imshow(y_np[0,0,:,:], vmin=0, vmax=1)\n",
    "plt.title(\"ground truth\")\n",
    "plt.subplot(1, 3, 3)\n",
    "plt.imshow(scores_np[0,0,:,:], vmin=0, vmax=1)\n",
    "plt.title(\"prediction\")"
   ]
  },
  {
   "cell_type": "code",
   "execution_count": null,
   "metadata": {},
   "outputs": [],
   "source": []
  },
  {
   "cell_type": "code",
   "execution_count": null,
   "metadata": {},
   "outputs": [],
   "source": []
  }
 ],
 "metadata": {
  "kernelspec": {
   "display_name": "Python 3",
   "language": "python",
   "name": "python3"
  },
  "language_info": {
   "codemirror_mode": {
    "name": "ipython",
    "version": 3
   },
   "file_extension": ".py",
   "mimetype": "text/x-python",
   "name": "python",
   "nbconvert_exporter": "python",
   "pygments_lexer": "ipython3",
   "version": "3.6.8"
  }
 },
 "nbformat": 4,
 "nbformat_minor": 2
}
