{
 "cells": [
  {
   "cell_type": "markdown",
   "metadata": {},
   "source": [
    "# Train GammaNet with PyTorch"
   ]
  },
  {
   "cell_type": "code",
   "execution_count": 1,
   "metadata": {},
   "outputs": [],
   "source": [
    "import sys\n",
    "import numpy as np\n",
    "import h5py\n",
    "import torch \n",
    "import torch.nn as nn\n",
    "import torch.optim as optim\n",
    "import torch.nn.functional as F\n",
    "from torch.utils.data import Dataset, DataLoader\n",
    "import matplotlib.pyplot as plt\n",
    "sys.path.append(\"/home/liponan/projects/gammanet/\")\n",
    "from gammanet.simulate import sim_detector_image\n"
   ]
  },
  {
   "cell_type": "markdown",
   "metadata": {},
   "source": [
    "## Dataset"
   ]
  },
  {
   "cell_type": "markdown",
   "metadata": {},
   "source": [
    "### Define a dataset class"
   ]
  },
  {
   "cell_type": "code",
   "execution_count": 2,
   "metadata": {},
   "outputs": [],
   "source": [
    "class PhotonImages(Dataset):\n",
    "    \n",
    "    def __init__(self, data_h5, tensor=True):\n",
    "        self.tensor = tensor\n",
    "        with h5py.File(data_h5, \"r\") as f:\n",
    "            self.imgs = f[\"imgs\"][:]\n",
    "            self.labels = f[\"labels\"][:]\n",
    "            self.nhits = f[\"nhits\"][:]\n",
    "            \n",
    "    def __len__(self):\n",
    "        return self.imgs.shape[0]\n",
    "    \n",
    "    def make_label(self, idx):\n",
    "        label = np.zeros( (3, self.imgs.shape[1], self.imgs.shape[2]) )\n",
    "        for i in range(self.nhits[idx]):\n",
    "            ix = int(round(self.labels[idx,i,0]))\n",
    "            iy = int(round(self.labels[idx,i,1]))\n",
    "            if ix >= label.shape[2] or iy >= label.shape[1]:\n",
    "                continue\n",
    "            offset_x = self.labels[idx,i,0] - ix\n",
    "            offset_y = self.labels[idx,i,1] - iy\n",
    "            label[0, iy, ix] = 1\n",
    "            label[1, iy, ix] = offset_y\n",
    "            label[2, iy, ix] = offset_x\n",
    "        return label\n",
    "    \n",
    "    def __getitem__(self, idx):\n",
    "        img = self.imgs[np.newaxis,idx,:,:]\n",
    "        label = self.make_label(idx)\n",
    "        if self.tensor:\n",
    "            img = torch.from_numpy(img)\n",
    "            label = torch.from_numpy(label)\n",
    "        return img, label\n",
    "        "
   ]
  },
  {
   "cell_type": "markdown",
   "metadata": {},
   "source": [
    "### Test Dataset"
   ]
  },
  {
   "cell_type": "code",
   "execution_count": 3,
   "metadata": {},
   "outputs": [
    {
     "name": "stdout",
     "output_type": "stream",
     "text": [
      "x torch.Size([1, 32, 32])\n",
      "y torch.Size([3, 32, 32])\n"
     ]
    }
   ],
   "source": [
    "train_dataset = PhotonImages(\"train.h5\")\n",
    "x, y = train_dataset[0]\n",
    "print(\"x\", x.size())\n",
    "print(\"y\", y.size())"
   ]
  },
  {
   "cell_type": "code",
   "execution_count": 4,
   "metadata": {},
   "outputs": [
    {
     "data": {
      "text/plain": [
       "Text(0.5, 1.0, 'y-offset')"
      ]
     },
     "execution_count": 4,
     "metadata": {},
     "output_type": "execute_result"
    },
    {
     "data": {
      "image/png": "[encoded data removed]",
      "text/plain": [
       "<Figure size 936x288 with 4 Axes>"
      ]
     },
     "metadata": {
      "needs_background": "light"
     },
     "output_type": "display_data"
    }
   ],
   "source": [
    "fig = plt.figure()\n",
    "fig.set_size_inches(13, 4)\n",
    "plt.subplot(1, 4, 1)\n",
    "plt.imshow(x[0,:,:])\n",
    "plt.title(\"data\")\n",
    "plt.subplot(1, 4, 2)\n",
    "plt.imshow(y[0,:,:])\n",
    "plt.title(\"ground truth\")\n",
    "plt.subplot(1, 4, 3)\n",
    "plt.imshow(y[1,:,:], vmin=-0.5, vmax=0.5)\n",
    "# plt.colorbar()\n",
    "plt.title(\"x-offset\")\n",
    "plt.subplot(1, 4, 4)\n",
    "plt.imshow(y[2,:,:], vmin=-0.5, vmax=0.5)\n",
    "plt.title(\"y-offset\")\n",
    "# plt.colorbar()\n"
   ]
  },
  {
   "cell_type": "markdown",
   "metadata": {},
   "source": [
    "### Setup a Dataloader"
   ]
  },
  {
   "cell_type": "code",
   "execution_count": 5,
   "metadata": {},
   "outputs": [],
   "source": [
    "train_dataloader = DataLoader(train_dataset, batch_size=1024, shuffle=True, num_workers=2)"
   ]
  },
  {
   "cell_type": "markdown",
   "metadata": {},
   "source": [
    "## Loss function"
   ]
  },
  {
   "cell_type": "markdown",
   "metadata": {},
   "source": [
    "## Network"
   ]
  },
  {
   "cell_type": "code",
   "execution_count": 6,
   "metadata": {},
   "outputs": [],
   "source": [
    "def GammaNetLoss(scores, target, entropy=True):\n",
    "    if entropy:\n",
    "        loss = nn.BCEWithLogitsLoss()(scores.float(), target.float())\n",
    "    else:\n",
    "        scores = nn.Sigmoid()(scores)\n",
    "        loss = nn.MSELoss()(scores.float(), target.float())\n",
    "    return loss"
   ]
  },
  {
   "cell_type": "code",
   "execution_count": 7,
   "metadata": {},
   "outputs": [],
   "source": [
    "test_loss = GammaNetLoss(torch.rand(4,1,16,16), torch.rand(4,1,16,16))"
   ]
  },
  {
   "cell_type": "markdown",
   "metadata": {},
   "source": [
    "### Define network"
   ]
  },
  {
   "cell_type": "code",
   "execution_count": 8,
   "metadata": {},
   "outputs": [],
   "source": [
    "class conv1x1(nn.Module):\n",
    "    def __init__(self, n_in, n_out, activate=False, stride=1, bias=True):\n",
    "        super(conv1x1, self).__init__()\n",
    "        self.conv1 = nn.Conv2d(n_in, n_out, kernel_size=1, stride=stride, padding=0, bias=bias)\n",
    "        torch.nn.init.kaiming_normal_( self.conv1.weight )\n",
    "        self.bn1 = torch.nn.BatchNorm2d(n_out)\n",
    "        nn.init.constant_(self.bn1.weight, 1)\n",
    "        nn.init.constant_(self.bn1.bias, 0)\n",
    "        self.activate = activate\n",
    "\n",
    "    def forward(self,x):\n",
    "        x = self.bn1(self.conv1(x))\n",
    "        if self.activate:\n",
    "            x = F.relu(x)\n",
    "        return x    \n",
    "\n",
    "class conv3x3(nn.Module):\n",
    "    def __init__(self, n_in, n_out, activate=True, stride=1, bias=True):\n",
    "        super(conv3x3, self).__init__()\n",
    "        self.conv1 = nn.Conv2d(n_in, n_out, kernel_size=3, stride=stride, padding=1, bias=bias)\n",
    "        torch.nn.init.kaiming_normal_( self.conv1.weight )\n",
    "        self.bn1 = torch.nn.BatchNorm2d(n_out)\n",
    "        nn.init.constant_(self.bn1.weight, 1)\n",
    "        nn.init.constant_(self.bn1.bias, 0)\n",
    "        self.activate = activate\n",
    "\n",
    "    def forward(self,x):\n",
    "        x = self.bn1(self.conv1(x))\n",
    "        if self.activate:\n",
    "            x = F.relu(x)\n",
    "        return x\n",
    "\n",
    "\n",
    "class GammaNet(nn.Module):\n",
    "    def __init__(self, n_filters, n_hidden, n_in, n_out):\n",
    "        super(GammaNet, self).__init__()\n",
    "        self.input = conv3x3(n_in, n_filters)\n",
    "        self.output = conv1x1(n_filters, n_out)\n",
    "        layer = conv3x3(n_filters, n_filters)\n",
    "        self.hidden = nn.Sequential(\n",
    "            *[layer for i in range(n_hidden-1)]\n",
    "        )\n",
    "        \n",
    "    def forward(self, x):\n",
    "        x = self.input(x)\n",
    "        x = self.hidden(x)\n",
    "        x = self.output(x)\n",
    "        return x"
   ]
  },
  {
   "cell_type": "markdown",
   "metadata": {},
   "source": [
    "### Print net arch"
   ]
  },
  {
   "cell_type": "code",
   "execution_count": 33,
   "metadata": {},
   "outputs": [
    {
     "name": "stdout",
     "output_type": "stream",
     "text": [
      "GammaNet(\n",
      "  (input): conv3x3(\n",
      "    (conv1): Conv2d(1, 64, kernel_size=(3, 3), stride=(1, 1), padding=(1, 1))\n",
      "    (bn1): BatchNorm2d(64, eps=1e-05, momentum=0.1, affine=True, track_running_stats=True)\n",
      "  )\n",
      "  (output): conv1x1(\n",
      "    (conv1): Conv2d(64, 1, kernel_size=(1, 1), stride=(1, 1))\n",
      "    (bn1): BatchNorm2d(1, eps=1e-05, momentum=0.1, affine=True, track_running_stats=True)\n",
      "  )\n",
      "  (hidden): Sequential(\n",
      "    (0): conv3x3(\n",
      "      (conv1): Conv2d(64, 64, kernel_size=(3, 3), stride=(1, 1), padding=(1, 1))\n",
      "      (bn1): BatchNorm2d(64, eps=1e-05, momentum=0.1, affine=True, track_running_stats=True)\n",
      "    )\n",
      "  )\n",
      ")\n"
     ]
    }
   ],
   "source": [
    "model = GammaNet(n_filters=64, n_hidden=2, n_in=1, n_out=1)\n",
    "print(model)"
   ]
  },
  {
   "cell_type": "markdown",
   "metadata": {},
   "source": [
    "## Train the network"
   ]
  },
  {
   "cell_type": "markdown",
   "metadata": {},
   "source": [
    "### Parameters"
   ]
  },
  {
   "cell_type": "code",
   "execution_count": 34,
   "metadata": {},
   "outputs": [],
   "source": [
    "use_cuda = True\n",
    "gpu_id = \"cuda:1\"\n",
    "n_epochs = 500\n",
    "lr = 0.01\n",
    "lr_policy = 200\n",
    "l2_lambda = 1e-4"
   ]
  },
  {
   "cell_type": "markdown",
   "metadata": {},
   "source": [
    "### Optimizer"
   ]
  },
  {
   "cell_type": "code",
   "execution_count": 35,
   "metadata": {},
   "outputs": [],
   "source": [
    "optimizer = optim.Adam"
   ]
  },
  {
   "cell_type": "markdown",
   "metadata": {},
   "source": [
    "### Validation dataset"
   ]
  },
  {
   "cell_type": "code",
   "execution_count": 36,
   "metadata": {},
   "outputs": [],
   "source": [
    "val_dataset = PhotonImages(\"val.h5\")\n",
    "val_dataloader = DataLoader(val_dataset, batch_size=1024, shuffle=False, num_workers=1)"
   ]
  },
  {
   "cell_type": "markdown",
   "metadata": {},
   "source": [
    "### Run"
   ]
  },
  {
   "cell_type": "code",
   "execution_count": 37,
   "metadata": {},
   "outputs": [
    {
     "name": "stdout",
     "output_type": "stream",
     "text": [
      "epoch 0 seen 10240 val. loss 0.5433353781700134\n",
      "epoch 1 seen 20480 val. loss 0.5158210396766663\n",
      "epoch 2 seen 30720 val. loss 0.4779682159423828\n",
      "epoch 3 seen 40960 val. loss 0.4502204656600952\n",
      "epoch 4 seen 51200 val. loss 0.41598525643348694\n",
      "epoch 5 seen 61440 val. loss 0.3842364549636841\n",
      "epoch 6 seen 71680 val. loss 0.35881665349006653\n",
      "epoch 7 seen 81920 val. loss 0.33012455701828003\n",
      "epoch 8 seen 92160 val. loss 0.30356550216674805\n",
      "epoch 9 seen 102400 val. loss 0.2783781886100769\n",
      "epoch 10 seen 112640 val. loss 0.25197112560272217\n",
      "epoch 11 seen 122880 val. loss 0.2299622893333435\n",
      "epoch 12 seen 133120 val. loss 0.20945289731025696\n",
      "epoch 13 seen 143360 val. loss 0.1926116794347763\n",
      "epoch 14 seen 153600 val. loss 0.17581331729888916\n",
      "epoch 15 seen 163840 val. loss 0.16196471452713013\n",
      "epoch 16 seen 174080 val. loss 0.1477544605731964\n",
      "epoch 17 seen 184320 val. loss 0.13716468214988708\n",
      "epoch 18 seen 194560 val. loss 0.1251947283744812\n",
      "epoch 19 seen 204800 val. loss 0.13335978984832764\n",
      "epoch 20 seen 215040 val. loss 0.12243745476007462\n",
      "epoch 21 seen 225280 val. loss 0.11221905052661896\n",
      "epoch 22 seen 235520 val. loss 0.10176332294940948\n",
      "epoch 23 seen 245760 val. loss 0.09678544104099274\n",
      "epoch 24 seen 256000 val. loss 0.0801154375076294\n",
      "epoch 25 seen 266240 val. loss 0.07566159218549728\n",
      "epoch 26 seen 276480 val. loss 0.07184179127216339\n",
      "epoch 27 seen 286720 val. loss 0.0644369125366211\n",
      "epoch 28 seen 296960 val. loss 0.06157207489013672\n",
      "epoch 29 seen 307200 val. loss 0.052644871175289154\n",
      "epoch 30 seen 317440 val. loss 0.0508902408182621\n",
      "epoch 31 seen 327680 val. loss 0.04683800786733627\n",
      "epoch 32 seen 337920 val. loss 0.03820271044969559\n",
      "epoch 33 seen 348160 val. loss 0.03537165746092796\n",
      "epoch 34 seen 358400 val. loss 0.0326099619269371\n",
      "epoch 35 seen 368640 val. loss 0.030383538454771042\n",
      "epoch 36 seen 378880 val. loss 0.027916114777326584\n",
      "epoch 37 seen 389120 val. loss 0.025524239987134933\n",
      "epoch 38 seen 399360 val. loss 0.025862377136945724\n",
      "epoch 39 seen 409600 val. loss 0.02533278614282608\n",
      "epoch 40 seen 419840 val. loss 0.021632466465234756\n",
      "epoch 41 seen 430080 val. loss 0.02014102227985859\n",
      "epoch 42 seen 440320 val. loss 0.01889294758439064\n",
      "epoch 43 seen 450560 val. loss 0.017266910523176193\n",
      "epoch 44 seen 460800 val. loss 0.016518164426088333\n",
      "epoch 45 seen 471040 val. loss 0.015295393764972687\n",
      "epoch 46 seen 481280 val. loss 0.0142337866127491\n",
      "epoch 47 seen 491520 val. loss 0.013639388605952263\n",
      "epoch 48 seen 501760 val. loss 0.01288016140460968\n",
      "epoch 49 seen 512000 val. loss 0.012172864750027657\n",
      "epoch 50 seen 522240 val. loss 0.011798972263932228\n",
      "epoch 51 seen 532480 val. loss 0.010991008952260017\n",
      "epoch 52 seen 542720 val. loss 0.01055038720369339\n",
      "epoch 53 seen 552960 val. loss 0.010082153603434563\n",
      "epoch 54 seen 563200 val. loss 0.00975305587053299\n",
      "epoch 55 seen 573440 val. loss 0.009458944201469421\n",
      "epoch 56 seen 583680 val. loss 0.009196450933814049\n",
      "epoch 57 seen 593920 val. loss 0.00909540057182312\n",
      "epoch 58 seen 604160 val. loss 0.00896078534424305\n",
      "epoch 59 seen 614400 val. loss 0.00829256884753704\n",
      "epoch 60 seen 624640 val. loss 0.008009066805243492\n",
      "epoch 61 seen 634880 val. loss 0.00781778059899807\n",
      "epoch 62 seen 645120 val. loss 0.007681369781494141\n",
      "epoch 63 seen 655360 val. loss 0.007464453112334013\n",
      "epoch 64 seen 665600 val. loss 0.007311554159969091\n",
      "epoch 65 seen 675840 val. loss 0.007194189354777336\n",
      "epoch 66 seen 686080 val. loss 0.00715723168104887\n",
      "epoch 67 seen 696320 val. loss 0.007022182457149029\n",
      "epoch 68 seen 706560 val. loss 0.007009420543909073\n",
      "epoch 69 seen 716800 val. loss 0.006934440694749355\n",
      "epoch 70 seen 727040 val. loss 0.006947569083422422\n",
      "epoch 71 seen 737280 val. loss 0.006929127965122461\n",
      "epoch 72 seen 747520 val. loss 0.006980841979384422\n",
      "epoch 73 seen 757760 val. loss 0.00692080520093441\n",
      "epoch 74 seen 768000 val. loss 0.006892069708555937\n",
      "epoch 75 seen 778240 val. loss 0.006869690492749214\n",
      "epoch 76 seen 788480 val. loss 0.006800025701522827\n",
      "epoch 77 seen 798720 val. loss 0.0068452851846814156\n",
      "epoch 78 seen 808960 val. loss 0.006806772667914629\n",
      "epoch 79 seen 819200 val. loss 0.0068253567442297935\n",
      "epoch 80 seen 829440 val. loss 0.006823313422501087\n",
      "epoch 81 seen 839680 val. loss 0.006845015566796064\n",
      "epoch 82 seen 849920 val. loss 0.006805669516324997\n",
      "epoch 83 seen 860160 val. loss 0.006828573998063803\n",
      "epoch 84 seen 870400 val. loss 0.006772242486476898\n",
      "epoch 85 seen 880640 val. loss 0.006774619687348604\n",
      "epoch 86 seen 890880 val. loss 0.006788457743823528\n",
      "epoch 87 seen 901120 val. loss 0.0068055083975195885\n",
      "epoch 88 seen 911360 val. loss 0.006780880503356457\n",
      "epoch 89 seen 921600 val. loss 0.0067703695967793465\n",
      "epoch 90 seen 931840 val. loss 0.006795521825551987\n",
      "epoch 91 seen 942080 val. loss 0.0068369340151548386\n",
      "epoch 92 seen 952320 val. loss 0.006849213503301144\n",
      "epoch 93 seen 962560 val. loss 0.00679937656968832\n",
      "epoch 94 seen 972800 val. loss 0.00676822941750288\n",
      "epoch 95 seen 983040 val. loss 0.006747087929397821\n",
      "epoch 96 seen 993280 val. loss 0.00680246576666832\n",
      "epoch 97 seen 1003520 val. loss 0.006791247520595789\n",
      "epoch 98 seen 1013760 val. loss 0.006805364042520523\n",
      "epoch 99 seen 1024000 val. loss 0.0067690350115299225\n",
      "epoch 100 seen 1034240 val. loss 0.0067647164687514305\n",
      "epoch 101 seen 1044480 val. loss 0.006787713151425123\n",
      "epoch 102 seen 1054720 val. loss 0.006851518526673317\n",
      "epoch 103 seen 1064960 val. loss 0.006797388195991516\n",
      "epoch 104 seen 1075200 val. loss 0.006811138242483139\n",
      "epoch 105 seen 1085440 val. loss 0.006813941057771444\n",
      "epoch 106 seen 1095680 val. loss 0.006811342667788267\n",
      "epoch 107 seen 1105920 val. loss 0.006794825196266174\n",
      "epoch 108 seen 1116160 val. loss 0.00673353485763073\n",
      "epoch 109 seen 1126400 val. loss 0.006813226267695427\n",
      "epoch 110 seen 1136640 val. loss 0.006860557943582535\n",
      "epoch 111 seen 1146880 val. loss 0.00679384870454669\n",
      "epoch 112 seen 1157120 val. loss 0.006803261116147041\n",
      "epoch 113 seen 1167360 val. loss 0.006872339174151421\n",
      "epoch 114 seen 1177600 val. loss 0.0068503147922456264\n",
      "epoch 115 seen 1187840 val. loss 0.0067841955460608006\n",
      "epoch 116 seen 1198080 val. loss 0.00679857237264514\n",
      "epoch 117 seen 1208320 val. loss 0.0067594414576888084\n",
      "epoch 118 seen 1218560 val. loss 0.006859553512185812\n",
      "epoch 119 seen 1228800 val. loss 0.006769207306206226\n",
      "epoch 120 seen 1239040 val. loss 0.006824290379881859\n",
      "epoch 121 seen 1249280 val. loss 0.006813378073275089\n",
      "epoch 122 seen 1259520 val. loss 0.006816473789513111\n",
      "epoch 123 seen 1269760 val. loss 0.006807789206504822\n",
      "epoch 124 seen 1280000 val. loss 0.006848568562418222\n",
      "epoch 125 seen 1290240 val. loss 0.006824570707976818\n",
      "epoch 126 seen 1300480 val. loss 0.0067994361743330956\n",
      "epoch 127 seen 1310720 val. loss 0.006816786248236895\n",
      "epoch 128 seen 1320960 val. loss 0.0068096136674284935\n",
      "epoch 129 seen 1331200 val. loss 0.0068455589935183525\n",
      "epoch 130 seen 1341440 val. loss 0.006846928037703037\n",
      "epoch 131 seen 1351680 val. loss 0.006817217916250229\n",
      "epoch 132 seen 1361920 val. loss 0.006818858906626701\n",
      "epoch 133 seen 1372160 val. loss 0.00675822701305151\n",
      "epoch 134 seen 1382400 val. loss 0.0067624119110405445\n",
      "epoch 135 seen 1392640 val. loss 0.0067953867837786674\n",
      "epoch 136 seen 1402880 val. loss 0.006827143486589193\n",
      "epoch 137 seen 1413120 val. loss 0.006753625813871622\n",
      "epoch 138 seen 1423360 val. loss 0.006740479730069637\n",
      "epoch 139 seen 1433600 val. loss 0.00683952122926712\n",
      "epoch 140 seen 1443840 val. loss 0.006799752824008465\n",
      "epoch 141 seen 1454080 val. loss 0.0067749181762337685\n",
      "epoch 142 seen 1464320 val. loss 0.006825111340731382\n",
      "epoch 143 seen 1474560 val. loss 0.0068351225927472115\n",
      "epoch 144 seen 1484800 val. loss 0.006742347963154316\n",
      "epoch 145 seen 1495040 val. loss 0.006725954357534647\n",
      "epoch 146 seen 1505280 val. loss 0.006803667172789574\n",
      "epoch 147 seen 1515520 val. loss 0.0067930808290839195\n",
      "epoch 148 seen 1525760 val. loss 0.006776012014597654\n",
      "epoch 149 seen 1536000 val. loss 0.006871770601719618\n",
      "epoch 150 seen 1546240 val. loss 0.00679908087477088\n",
      "epoch 151 seen 1556480 val. loss 0.006852361373603344\n",
      "epoch 152 seen 1566720 val. loss 0.006838633678853512\n",
      "epoch 153 seen 1576960 val. loss 0.006781077478080988\n",
      "epoch 154 seen 1587200 val. loss 0.006767352111637592\n",
      "epoch 155 seen 1597440 val. loss 0.00673352787271142\n",
      "epoch 156 seen 1607680 val. loss 0.0067834206856787205\n"
     ]
    },
    {
     "name": "stdout",
     "output_type": "stream",
     "text": [
      "epoch 157 seen 1617920 val. loss 0.006794322282075882\n",
      "epoch 158 seen 1628160 val. loss 0.006776317022740841\n",
      "epoch 159 seen 1638400 val. loss 0.006840703543275595\n",
      "epoch 160 seen 1648640 val. loss 0.006740876939147711\n",
      "epoch 161 seen 1658880 val. loss 0.006800769828259945\n",
      "epoch 162 seen 1669120 val. loss 0.006746647879481316\n",
      "epoch 163 seen 1679360 val. loss 0.006783840246498585\n",
      "epoch 164 seen 1689600 val. loss 0.006786595098674297\n",
      "epoch 165 seen 1699840 val. loss 0.006742401979863644\n",
      "epoch 166 seen 1710080 val. loss 0.006773204542696476\n",
      "epoch 167 seen 1720320 val. loss 0.006740710698068142\n",
      "epoch 168 seen 1730560 val. loss 0.006750549655407667\n",
      "epoch 169 seen 1740800 val. loss 0.006709665060043335\n",
      "epoch 170 seen 1751040 val. loss 0.006773248314857483\n",
      "epoch 171 seen 1761280 val. loss 0.006789551582187414\n",
      "epoch 172 seen 1771520 val. loss 0.006794579327106476\n",
      "epoch 173 seen 1781760 val. loss 0.006794460117816925\n",
      "epoch 174 seen 1792000 val. loss 0.00674395402893424\n",
      "epoch 175 seen 1802240 val. loss 0.006751302629709244\n",
      "epoch 176 seen 1812480 val. loss 0.006787086836993694\n",
      "epoch 177 seen 1822720 val. loss 0.006740625016391277\n",
      "epoch 178 seen 1832960 val. loss 0.006753871217370033\n",
      "epoch 179 seen 1843200 val. loss 0.006735155358910561\n",
      "epoch 180 seen 1853440 val. loss 0.006714426912367344\n",
      "epoch 181 seen 1863680 val. loss 0.006769205443561077\n",
      "epoch 182 seen 1873920 val. loss 0.006860747933387756\n",
      "epoch 183 seen 1884160 val. loss 0.006724178325384855\n",
      "epoch 184 seen 1894400 val. loss 0.006700953468680382\n",
      "epoch 185 seen 1904640 val. loss 0.006713183596730232\n",
      "epoch 186 seen 1914880 val. loss 0.006789174862205982\n",
      "epoch 187 seen 1925120 val. loss 0.006756347604095936\n",
      "epoch 188 seen 1935360 val. loss 0.006714893039315939\n",
      "epoch 189 seen 1945600 val. loss 0.006700178608298302\n",
      "epoch 190 seen 1955840 val. loss 0.006679818034172058\n",
      "epoch 191 seen 1966080 val. loss 0.00670481426641345\n",
      "epoch 192 seen 1976320 val. loss 0.006753919646143913\n",
      "epoch 193 seen 1986560 val. loss 0.00669153593480587\n",
      "epoch 194 seen 1996800 val. loss 0.006702371872961521\n",
      "epoch 195 seen 2007040 val. loss 0.006699888966977596\n",
      "epoch 196 seen 2017280 val. loss 0.00668402761220932\n",
      "epoch 197 seen 2027520 val. loss 0.006739065516740084\n",
      "epoch 198 seen 2037760 val. loss 0.0067565846256911755\n",
      "epoch 199 seen 2048000 val. loss 0.006682016886770725\n",
      "======== LR is now 0.001\n",
      "epoch 200 seen 2058240 val. loss 0.006206179037690163\n",
      "epoch 201 seen 2068480 val. loss 0.006123905070126057\n",
      "epoch 202 seen 2078720 val. loss 0.006073740776628256\n",
      "epoch 203 seen 2088960 val. loss 0.005774256773293018\n",
      "epoch 204 seen 2099200 val. loss 0.005731900222599506\n",
      "epoch 205 seen 2109440 val. loss 0.005626407451927662\n",
      "epoch 206 seen 2119680 val. loss 0.005495941732078791\n",
      "epoch 207 seen 2129920 val. loss 0.005467930808663368\n",
      "epoch 208 seen 2140160 val. loss 0.005420560948550701\n",
      "epoch 209 seen 2150400 val. loss 0.005381154827773571\n",
      "epoch 210 seen 2160640 val. loss 0.005307317711412907\n",
      "epoch 211 seen 2170880 val. loss 0.005361401475965977\n",
      "epoch 212 seen 2181120 val. loss 0.005281995050609112\n",
      "epoch 213 seen 2191360 val. loss 0.005279707722365856\n",
      "epoch 214 seen 2201600 val. loss 0.005255043040961027\n",
      "epoch 215 seen 2211840 val. loss 0.005280182231217623\n",
      "epoch 216 seen 2222080 val. loss 0.005254779942333698\n",
      "epoch 217 seen 2232320 val. loss 0.005219770595431328\n",
      "epoch 218 seen 2242560 val. loss 0.0052182236686348915\n",
      "epoch 219 seen 2252800 val. loss 0.00520681869238615\n",
      "epoch 220 seen 2263040 val. loss 0.005253418814390898\n",
      "epoch 221 seen 2273280 val. loss 0.005162525922060013\n",
      "epoch 222 seen 2283520 val. loss 0.0051337615586817265\n",
      "epoch 223 seen 2293760 val. loss 0.00505485013127327\n",
      "epoch 224 seen 2304000 val. loss 0.005040920805186033\n",
      "epoch 225 seen 2314240 val. loss 0.005051490850746632\n",
      "epoch 226 seen 2324480 val. loss 0.004996011964976788\n",
      "epoch 227 seen 2334720 val. loss 0.004972971975803375\n",
      "epoch 228 seen 2344960 val. loss 0.004956056363880634\n",
      "epoch 229 seen 2355200 val. loss 0.004964439198374748\n",
      "epoch 230 seen 2365440 val. loss 0.004952983930706978\n",
      "epoch 231 seen 2375680 val. loss 0.004951040260493755\n",
      "epoch 232 seen 2385920 val. loss 0.004947636276483536\n",
      "epoch 233 seen 2396160 val. loss 0.004929824732244015\n",
      "epoch 234 seen 2406400 val. loss 0.004918265622109175\n",
      "epoch 235 seen 2416640 val. loss 0.004924982786178589\n",
      "epoch 236 seen 2426880 val. loss 0.004920413251966238\n",
      "epoch 237 seen 2437120 val. loss 0.0048928819596767426\n",
      "epoch 238 seen 2447360 val. loss 0.004895877093076706\n",
      "epoch 239 seen 2457600 val. loss 0.0048878733068704605\n",
      "epoch 240 seen 2467840 val. loss 0.00492846081033349\n",
      "epoch 241 seen 2478080 val. loss 0.004899526946246624\n",
      "epoch 242 seen 2488320 val. loss 0.004920887760818005\n",
      "epoch 243 seen 2498560 val. loss 0.004868236370384693\n",
      "epoch 244 seen 2508800 val. loss 0.004928297363221645\n",
      "epoch 245 seen 2519040 val. loss 0.004875233396887779\n",
      "epoch 246 seen 2529280 val. loss 0.004882347770035267\n",
      "epoch 247 seen 2539520 val. loss 0.004883944988250732\n",
      "epoch 248 seen 2549760 val. loss 0.0048518371768295765\n",
      "epoch 249 seen 2560000 val. loss 0.004873417317867279\n",
      "epoch 250 seen 2570240 val. loss 0.004844393115490675\n",
      "epoch 251 seen 2580480 val. loss 0.004846644587814808\n",
      "epoch 252 seen 2590720 val. loss 0.004800098016858101\n",
      "epoch 253 seen 2600960 val. loss 0.004832794889807701\n",
      "epoch 254 seen 2611200 val. loss 0.0048537543043494225\n",
      "epoch 255 seen 2621440 val. loss 0.004837122745811939\n",
      "epoch 256 seen 2631680 val. loss 0.0048658838495612144\n",
      "epoch 257 seen 2641920 val. loss 0.004859213717281818\n",
      "epoch 258 seen 2652160 val. loss 0.004912090487778187\n",
      "epoch 259 seen 2662400 val. loss 0.004978483077138662\n",
      "epoch 260 seen 2672640 val. loss 0.004856239538639784\n",
      "epoch 261 seen 2682880 val. loss 0.0048700966872274876\n",
      "epoch 262 seen 2693120 val. loss 0.0048606181517243385\n",
      "epoch 263 seen 2703360 val. loss 0.004848846700042486\n",
      "epoch 264 seen 2713600 val. loss 0.004930412862449884\n",
      "epoch 265 seen 2723840 val. loss 0.004807360470294952\n",
      "epoch 266 seen 2734080 val. loss 0.0047923242673277855\n",
      "epoch 267 seen 2744320 val. loss 0.004776368383318186\n",
      "epoch 268 seen 2754560 val. loss 0.0048291441053152084\n",
      "epoch 269 seen 2764800 val. loss 0.004826243966817856\n",
      "epoch 270 seen 2775040 val. loss 0.004819204099476337\n",
      "epoch 271 seen 2785280 val. loss 0.004799229092895985\n",
      "epoch 272 seen 2795520 val. loss 0.004790601320564747\n",
      "epoch 273 seen 2805760 val. loss 0.004805217031389475\n",
      "epoch 274 seen 2816000 val. loss 0.004845771938562393\n",
      "epoch 275 seen 2826240 val. loss 0.004802510607987642\n",
      "epoch 276 seen 2836480 val. loss 0.0047749122604727745\n",
      "epoch 277 seen 2846720 val. loss 0.004801344126462936\n",
      "epoch 278 seen 2856960 val. loss 0.004818839021027088\n",
      "epoch 279 seen 2867200 val. loss 0.004778706002980471\n",
      "epoch 280 seen 2877440 val. loss 0.004779106937348843\n",
      "epoch 281 seen 2887680 val. loss 0.004771430976688862\n",
      "epoch 282 seen 2897920 val. loss 0.00478050671517849\n",
      "epoch 283 seen 2908160 val. loss 0.004798342939466238\n",
      "epoch 284 seen 2918400 val. loss 0.004771191161125898\n",
      "epoch 285 seen 2928640 val. loss 0.0047762528993189335\n",
      "epoch 286 seen 2938880 val. loss 0.004763820208609104\n",
      "epoch 287 seen 2949120 val. loss 0.004761029034852982\n",
      "epoch 288 seen 2959360 val. loss 0.004736699629575014\n",
      "epoch 289 seen 2969600 val. loss 0.004754750989377499\n",
      "epoch 290 seen 2979840 val. loss 0.0047975750640034676\n",
      "epoch 291 seen 2990080 val. loss 0.004801136441528797\n",
      "epoch 292 seen 3000320 val. loss 0.004742342978715897\n",
      "epoch 293 seen 3010560 val. loss 0.004784859716892242\n",
      "epoch 294 seen 3020800 val. loss 0.004717959091067314\n",
      "epoch 295 seen 3031040 val. loss 0.004705801606178284\n",
      "epoch 296 seen 3041280 val. loss 0.0046780901029706\n",
      "epoch 297 seen 3051520 val. loss 0.004720690660178661\n",
      "epoch 298 seen 3061760 val. loss 0.004713044501841068\n",
      "epoch 299 seen 3072000 val. loss 0.004716426134109497\n",
      "epoch 300 seen 3082240 val. loss 0.004831570200622082\n",
      "epoch 301 seen 3092480 val. loss 0.004758806899189949\n",
      "epoch 302 seen 3102720 val. loss 0.004741359502077103\n",
      "epoch 303 seen 3112960 val. loss 0.004710460547357798\n",
      "epoch 304 seen 3123200 val. loss 0.004677850753068924\n",
      "epoch 305 seen 3133440 val. loss 0.004760180599987507\n",
      "epoch 306 seen 3143680 val. loss 0.0047522964887320995\n",
      "epoch 307 seen 3153920 val. loss 0.004763113334774971\n",
      "epoch 308 seen 3164160 val. loss 0.004721824079751968\n"
     ]
    },
    {
     "name": "stdout",
     "output_type": "stream",
     "text": [
      "epoch 309 seen 3174400 val. loss 0.0047412654384970665\n",
      "epoch 310 seen 3184640 val. loss 0.004716021940112114\n",
      "epoch 311 seen 3194880 val. loss 0.004730838350951672\n",
      "epoch 312 seen 3205120 val. loss 0.00472368486225605\n",
      "epoch 313 seen 3215360 val. loss 0.004739787429571152\n",
      "epoch 314 seen 3225600 val. loss 0.004746489692479372\n",
      "epoch 315 seen 3235840 val. loss 0.004673974588513374\n",
      "epoch 316 seen 3246080 val. loss 0.004701923578977585\n",
      "epoch 317 seen 3256320 val. loss 0.004704701714217663\n",
      "epoch 318 seen 3266560 val. loss 0.004654427990317345\n",
      "epoch 319 seen 3276800 val. loss 0.004686719737946987\n",
      "epoch 320 seen 3287040 val. loss 0.004689032677561045\n",
      "epoch 321 seen 3297280 val. loss 0.004698330070823431\n",
      "epoch 322 seen 3307520 val. loss 0.004720126278698444\n",
      "epoch 323 seen 3317760 val. loss 0.00469987653195858\n",
      "epoch 324 seen 3328000 val. loss 0.0046983929350972176\n",
      "epoch 325 seen 3338240 val. loss 0.004686116706579924\n",
      "epoch 326 seen 3348480 val. loss 0.0047083208337426186\n",
      "epoch 327 seen 3358720 val. loss 0.004674009047448635\n",
      "epoch 328 seen 3368960 val. loss 0.004795953631401062\n",
      "epoch 329 seen 3379200 val. loss 0.004773690365254879\n",
      "epoch 330 seen 3389440 val. loss 0.004689742811024189\n",
      "epoch 331 seen 3399680 val. loss 0.00470550125464797\n",
      "epoch 332 seen 3409920 val. loss 0.004674010910093784\n",
      "epoch 333 seen 3420160 val. loss 0.0047255828976631165\n",
      "epoch 334 seen 3430400 val. loss 0.004698293283581734\n",
      "epoch 335 seen 3440640 val. loss 0.004686528816819191\n",
      "epoch 336 seen 3450880 val. loss 0.004660489968955517\n",
      "epoch 337 seen 3461120 val. loss 0.0046714977361261845\n",
      "epoch 338 seen 3471360 val. loss 0.004707708023488522\n",
      "epoch 339 seen 3481600 val. loss 0.004722744692116976\n",
      "epoch 340 seen 3491840 val. loss 0.004672495648264885\n",
      "epoch 341 seen 3502080 val. loss 0.0046955072320997715\n",
      "epoch 342 seen 3512320 val. loss 0.004891932010650635\n",
      "epoch 343 seen 3522560 val. loss 0.004812044091522694\n",
      "epoch 344 seen 3532800 val. loss 0.004830903373658657\n",
      "epoch 345 seen 3543040 val. loss 0.0047795274294912815\n",
      "epoch 346 seen 3553280 val. loss 0.004734234884381294\n",
      "epoch 347 seen 3563520 val. loss 0.004748023115098476\n",
      "epoch 348 seen 3573760 val. loss 0.004691350273787975\n",
      "epoch 349 seen 3584000 val. loss 0.004720502533018589\n",
      "epoch 350 seen 3594240 val. loss 0.004719637334346771\n",
      "epoch 351 seen 3604480 val. loss 0.004701567348092794\n",
      "epoch 352 seen 3614720 val. loss 0.004696839489042759\n",
      "epoch 353 seen 3624960 val. loss 0.004775502253323793\n",
      "epoch 354 seen 3635200 val. loss 0.004700355231761932\n",
      "epoch 355 seen 3645440 val. loss 0.004728475585579872\n",
      "epoch 356 seen 3655680 val. loss 0.004672755487263203\n",
      "epoch 357 seen 3665920 val. loss 0.004847857169806957\n",
      "epoch 358 seen 3676160 val. loss 0.004699022509157658\n",
      "epoch 359 seen 3686400 val. loss 0.004654736258089542\n",
      "epoch 360 seen 3696640 val. loss 0.004873310681432486\n",
      "epoch 361 seen 3706880 val. loss 0.004654536955058575\n",
      "epoch 362 seen 3717120 val. loss 0.004791487939655781\n",
      "epoch 363 seen 3727360 val. loss 0.004724548663944006\n",
      "epoch 364 seen 3737600 val. loss 0.004615925718098879\n",
      "epoch 365 seen 3747840 val. loss 0.0045977020636200905\n",
      "epoch 366 seen 3758080 val. loss 0.004596246872097254\n",
      "epoch 367 seen 3768320 val. loss 0.004607529379427433\n",
      "epoch 368 seen 3778560 val. loss 0.004648036789149046\n",
      "epoch 369 seen 3788800 val. loss 0.0046134390868246555\n",
      "epoch 370 seen 3799040 val. loss 0.004672991577535868\n",
      "epoch 371 seen 3809280 val. loss 0.004603375680744648\n",
      "epoch 372 seen 3819520 val. loss 0.004616427235305309\n",
      "epoch 373 seen 3829760 val. loss 0.0045893993228673935\n",
      "epoch 374 seen 3840000 val. loss 0.00457408744841814\n",
      "epoch 375 seen 3850240 val. loss 0.004605323076248169\n",
      "epoch 376 seen 3860480 val. loss 0.0046085636131465435\n",
      "epoch 377 seen 3870720 val. loss 0.004692546557635069\n",
      "epoch 378 seen 3880960 val. loss 0.004631655290722847\n",
      "epoch 379 seen 3891200 val. loss 0.004600700922310352\n",
      "epoch 380 seen 3901440 val. loss 0.004572857636958361\n",
      "epoch 381 seen 3911680 val. loss 0.004633469507098198\n",
      "epoch 382 seen 3921920 val. loss 0.004602753557264805\n",
      "epoch 383 seen 3932160 val. loss 0.004675551317632198\n",
      "epoch 384 seen 3942400 val. loss 0.004723837599158287\n",
      "epoch 385 seen 3952640 val. loss 0.004614465869963169\n",
      "epoch 386 seen 3962880 val. loss 0.004634059499949217\n",
      "epoch 387 seen 3973120 val. loss 0.0046399906277656555\n",
      "epoch 388 seen 3983360 val. loss 0.0047079832293093204\n",
      "epoch 389 seen 3993600 val. loss 0.004570872522890568\n",
      "epoch 390 seen 4003840 val. loss 0.004622821230441332\n",
      "epoch 391 seen 4014080 val. loss 0.004565741866827011\n",
      "epoch 392 seen 4024320 val. loss 0.004608314484357834\n",
      "epoch 393 seen 4034560 val. loss 0.004586000926792622\n",
      "epoch 394 seen 4044800 val. loss 0.004567699506878853\n",
      "epoch 395 seen 4055040 val. loss 0.004547141492366791\n",
      "epoch 396 seen 4065280 val. loss 0.00465795025229454\n",
      "epoch 397 seen 4075520 val. loss 0.0046207173727452755\n",
      "epoch 398 seen 4085760 val. loss 0.004594040103256702\n",
      "epoch 399 seen 4096000 val. loss 0.004654642194509506\n",
      "======== LR is now 0.0001\n",
      "epoch 400 seen 4106240 val. loss 0.004398969933390617\n",
      "epoch 401 seen 4116480 val. loss 0.004398212768137455\n",
      "epoch 402 seen 4126720 val. loss 0.004398052580654621\n",
      "epoch 403 seen 4136960 val. loss 0.004373655654489994\n",
      "epoch 404 seen 4147200 val. loss 0.004372467752546072\n",
      "epoch 405 seen 4157440 val. loss 0.004370385780930519\n",
      "epoch 406 seen 4167680 val. loss 0.004365065135061741\n",
      "epoch 407 seen 4177920 val. loss 0.004351728595793247\n",
      "epoch 408 seen 4188160 val. loss 0.004348750226199627\n",
      "epoch 409 seen 4198400 val. loss 0.004342036321759224\n",
      "epoch 410 seen 4208640 val. loss 0.004347054287791252\n",
      "epoch 411 seen 4218880 val. loss 0.0043313512578606606\n",
      "epoch 412 seen 4229120 val. loss 0.004347891081124544\n",
      "epoch 413 seen 4239360 val. loss 0.004342852160334587\n",
      "epoch 414 seen 4249600 val. loss 0.004330074414610863\n",
      "epoch 415 seen 4259840 val. loss 0.004319746978580952\n",
      "epoch 416 seen 4270080 val. loss 0.0043328553438186646\n",
      "epoch 417 seen 4280320 val. loss 0.00431911600753665\n",
      "epoch 418 seen 4290560 val. loss 0.0043123457580804825\n",
      "epoch 419 seen 4300800 val. loss 0.004302906803786755\n",
      "epoch 420 seen 4311040 val. loss 0.004315827041864395\n",
      "epoch 421 seen 4321280 val. loss 0.004305934999138117\n",
      "epoch 422 seen 4331520 val. loss 0.004326609894633293\n",
      "epoch 423 seen 4341760 val. loss 0.004299711436033249\n",
      "epoch 424 seen 4352000 val. loss 0.004304343368858099\n",
      "epoch 425 seen 4362240 val. loss 0.004287765361368656\n",
      "epoch 426 seen 4372480 val. loss 0.004288375377655029\n",
      "epoch 427 seen 4382720 val. loss 0.004302390851080418\n",
      "epoch 428 seen 4392960 val. loss 0.004279273096472025\n",
      "epoch 429 seen 4403200 val. loss 0.0042875986546278\n",
      "epoch 430 seen 4413440 val. loss 0.004282664507627487\n",
      "epoch 431 seen 4423680 val. loss 0.004285819828510284\n",
      "epoch 432 seen 4433920 val. loss 0.004283389076590538\n",
      "epoch 433 seen 4444160 val. loss 0.00429101986810565\n",
      "epoch 434 seen 4454400 val. loss 0.004278597421944141\n",
      "epoch 435 seen 4464640 val. loss 0.004281710833311081\n",
      "epoch 436 seen 4474880 val. loss 0.004274506121873856\n",
      "epoch 437 seen 4485120 val. loss 0.0042722332291305065\n",
      "epoch 438 seen 4495360 val. loss 0.00425892136991024\n",
      "epoch 439 seen 4505600 val. loss 0.004262515343725681\n",
      "epoch 440 seen 4515840 val. loss 0.004283902235329151\n",
      "epoch 441 seen 4526080 val. loss 0.004258356522768736\n",
      "epoch 442 seen 4536320 val. loss 0.004257611930370331\n",
      "epoch 443 seen 4546560 val. loss 0.004253006540238857\n",
      "epoch 444 seen 4556800 val. loss 0.004256936721503735\n",
      "epoch 445 seen 4567040 val. loss 0.004281098023056984\n",
      "epoch 446 seen 4577280 val. loss 0.004242244176566601\n",
      "epoch 447 seen 4587520 val. loss 0.004246275406330824\n",
      "epoch 448 seen 4597760 val. loss 0.004251907579600811\n",
      "epoch 449 seen 4608000 val. loss 0.0042612082324922085\n",
      "epoch 450 seen 4618240 val. loss 0.004267455078661442\n",
      "epoch 451 seen 4628480 val. loss 0.004252620041370392\n",
      "epoch 452 seen 4638720 val. loss 0.004249650053679943\n",
      "epoch 453 seen 4648960 val. loss 0.004246420226991177\n",
      "epoch 454 seen 4659200 val. loss 0.004239489324390888\n",
      "epoch 455 seen 4669440 val. loss 0.004241797141730785\n",
      "epoch 456 seen 4679680 val. loss 0.004256636369973421\n",
      "epoch 457 seen 4689920 val. loss 0.004243216477334499\n",
      "epoch 458 seen 4700160 val. loss 0.004245861433446407\n",
      "epoch 459 seen 4710400 val. loss 0.004235502332448959\n",
      "epoch 460 seen 4720640 val. loss 0.004251360893249512\n"
     ]
    },
    {
     "name": "stdout",
     "output_type": "stream",
     "text": [
      "epoch 461 seen 4730880 val. loss 0.004247210919857025\n",
      "epoch 462 seen 4741120 val. loss 0.004248504992574453\n",
      "epoch 463 seen 4751360 val. loss 0.004257879685610533\n",
      "epoch 464 seen 4761600 val. loss 0.004229554440826178\n",
      "epoch 465 seen 4771840 val. loss 0.004240694921463728\n",
      "epoch 466 seen 4782080 val. loss 0.004233969375491142\n",
      "epoch 467 seen 4792320 val. loss 0.004223045893013477\n",
      "epoch 468 seen 4802560 val. loss 0.004230857826769352\n",
      "epoch 469 seen 4812800 val. loss 0.004231082275509834\n",
      "epoch 470 seen 4823040 val. loss 0.004232652019709349\n",
      "epoch 471 seen 4833280 val. loss 0.004225177690386772\n",
      "epoch 472 seen 4843520 val. loss 0.004252220503985882\n",
      "epoch 473 seen 4853760 val. loss 0.004221928771585226\n",
      "epoch 474 seen 4864000 val. loss 0.004232632461935282\n",
      "epoch 475 seen 4874240 val. loss 0.004237349610775709\n",
      "epoch 476 seen 4884480 val. loss 0.00423799455165863\n",
      "epoch 477 seen 4894720 val. loss 0.004226261749863625\n",
      "epoch 478 seen 4904960 val. loss 0.0042342147789895535\n",
      "epoch 479 seen 4915200 val. loss 0.004238875582814217\n",
      "epoch 480 seen 4925440 val. loss 0.00421613734215498\n",
      "epoch 481 seen 4935680 val. loss 0.004213219042867422\n",
      "epoch 482 seen 4945920 val. loss 0.004213547334074974\n",
      "epoch 483 seen 4956160 val. loss 0.00420720549300313\n",
      "epoch 484 seen 4966400 val. loss 0.0042075165547430515\n",
      "epoch 485 seen 4976640 val. loss 0.004211653955280781\n",
      "epoch 486 seen 4986880 val. loss 0.0042030829936265945\n",
      "epoch 487 seen 4997120 val. loss 0.004201279487460852\n",
      "epoch 488 seen 5007360 val. loss 0.0042183552868664265\n",
      "epoch 489 seen 5017600 val. loss 0.004211530555039644\n",
      "epoch 490 seen 5027840 val. loss 0.004214165732264519\n",
      "epoch 491 seen 5038080 val. loss 0.004213121719658375\n",
      "epoch 492 seen 5048320 val. loss 0.0042184628546237946\n",
      "epoch 493 seen 5058560 val. loss 0.004205944482237101\n",
      "epoch 494 seen 5068800 val. loss 0.004203096963465214\n",
      "epoch 495 seen 5079040 val. loss 0.004209344275295734\n",
      "epoch 496 seen 5089280 val. loss 0.004200363997370005\n",
      "epoch 497 seen 5099520 val. loss 0.0041993046179413795\n",
      "epoch 498 seen 5109760 val. loss 0.004202087409794331\n",
      "epoch 499 seen 5120000 val. loss 0.00419800216332078\n"
     ]
    }
   ],
   "source": [
    "if use_cuda:\n",
    "    model.to(gpu_id)\n",
    "    \n",
    "seen = 0\n",
    "train_loss_list = []\n",
    "val_loss_list = []\n",
    "    \n",
    "for epoch in range(n_epochs):\n",
    "    if epoch % lr_policy == 0 and epoch > 0:\n",
    "        lr /= 10.0\n",
    "        print(\"======== LR is now {} ==========\".format(lr))\n",
    "    for i, (x,y) in enumerate(train_dataloader):\n",
    "        my_optimizer = optimizer(model.parameters(), lr=lr, weight_decay=l2_lambda)\n",
    "        if use_cuda:\n",
    "            x = x.to(gpu_id)\n",
    "            y = y.to(gpu_id)\n",
    "        model.train()\n",
    "        my_optimizer.zero_grad()\n",
    "        scores = model(x)\n",
    "        loss = GammaNetLoss(scores, y[:,[0],:,:], entropy=True)\n",
    "        loss.backward()\n",
    "        my_optimizer.step()\n",
    "        seen += x.size(0)\n",
    "#         print(\"epoch\", epoch, \"iteration\", i, \"seen\", seen, \"loss\", float(loss.data))\n",
    "        train_loss_list.append((seen, float(loss.data)))\n",
    "    with torch.no_grad():\n",
    "        model.eval()\n",
    "        val_loss = 0\n",
    "        val_seen = 0\n",
    "        for j, (x,y) in enumerate(val_dataloader):\n",
    "            if use_cuda:\n",
    "                x = x.to(gpu_id)\n",
    "                y = y.to(gpu_id)\n",
    "            scores = model(x)\n",
    "            loss = GammaNetLoss(scores, y[:,[0],:,:], entropy=True)\n",
    "            val_seen += x.size(0)\n",
    "            val_loss += x.size(0) * float(loss.data)\n",
    "        val_loss /= val_seen\n",
    "        val_loss_list.append((seen, val_loss))\n",
    "        print(\"epoch\", epoch, \"seen\", seen, \"val. loss\", float(val_loss))\n",
    "            "
   ]
  },
  {
   "cell_type": "code",
   "execution_count": 38,
   "metadata": {},
   "outputs": [
    {
     "data": {
      "text/plain": [
       "(5000, 2)"
      ]
     },
     "execution_count": 38,
     "metadata": {},
     "output_type": "execute_result"
    }
   ],
   "source": [
    "np.array(train_loss_list).shape"
   ]
  },
  {
   "cell_type": "code",
   "execution_count": 39,
   "metadata": {},
   "outputs": [
    {
     "data": {
      "image/png": "[encoded data removed]",
      "text/plain": [
       "<Figure size 432x288 with 1 Axes>"
      ]
     },
     "metadata": {
      "needs_background": "light"
     },
     "output_type": "display_data"
    }
   ],
   "source": [
    "fig = plt.figure()\n",
    "plt.semilogy(np.array(train_loss_list)[:,0], np.array(train_loss_list)[:,1], label=\"train loss\")\n",
    "plt.semilogy(np.array(val_loss_list)[:,0], np.array(val_loss_list)[:,1], label=\"val loss\")\n",
    "plt.xlabel(\"seen\")\n",
    "plt.ylabel(\"loss\")\n",
    "plt.legend()\n",
    "plt.grid()"
   ]
  },
  {
   "cell_type": "markdown",
   "metadata": {},
   "source": [
    "### Visualize on-the-fly data"
   ]
  },
  {
   "cell_type": "code",
   "execution_count": 40,
   "metadata": {},
   "outputs": [],
   "source": [
    "with torch.no_grad():\n",
    "    x_np = x.cpu().numpy()\n",
    "    y_np = y.cpu().numpy()\n",
    "    scores_np = nn.Sigmoid()(scores).cpu().detach().numpy()"
   ]
  },
  {
   "cell_type": "code",
   "execution_count": 41,
   "metadata": {},
   "outputs": [
    {
     "data": {
      "text/plain": [
       "Text(0.5, 1.0, 'prediction')"
      ]
     },
     "execution_count": 41,
     "metadata": {},
     "output_type": "execute_result"
    },
    {
     "data": {
      "image/png": "[encoded data removed]",
      "text/plain": [
       "<Figure size 936x288 with 3 Axes>"
      ]
     },
     "metadata": {
      "needs_background": "light"
     },
     "output_type": "display_data"
    }
   ],
   "source": [
    "fig = plt.figure()\n",
    "fig.set_size_inches(13, 4)\n",
    "plt.subplot(1, 3, 1)\n",
    "plt.imshow(x_np[0,0,:,:])\n",
    "plt.title(\"data\")\n",
    "plt.subplot(1, 3, 2)\n",
    "plt.imshow(y_np[0,0,:,:], vmin=0, vmax=1)\n",
    "plt.title(\"ground truth\")\n",
    "plt.subplot(1, 3, 3)\n",
    "plt.imshow(scores_np[0,0,:,:], vmin=0, vmax=1)\n",
    "plt.title(\"prediction\")"
   ]
  },
  {
   "cell_type": "code",
   "execution_count": null,
   "metadata": {},
   "outputs": [],
   "source": []
  },
  {
   "cell_type": "code",
   "execution_count": null,
   "metadata": {},
   "outputs": [],
   "source": []
  }
 ],
 "metadata": {
  "kernelspec": {
   "display_name": "Python 3",
   "language": "python",
   "name": "python3"
  },
  "language_info": {
   "codemirror_mode": {
    "name": "ipython",
    "version": 3
   },
   "file_extension": ".py",
   "mimetype": "text/x-python",
   "name": "python",
   "nbconvert_exporter": "python",
   "pygments_lexer": "ipython3",
   "version": "3.6.8"
  }
 },
 "nbformat": 4,
 "nbformat_minor": 2
}
