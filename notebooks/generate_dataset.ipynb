{
 "cells": [
  {
   "cell_type": "markdown",
   "metadata": {},
   "source": [
    "# Generate simulate dataset"
   ]
  },
  {
   "cell_type": "code",
   "execution_count": 1,
   "metadata": {},
   "outputs": [],
   "source": [
    "import sys\n",
    "import numpy as np\n",
    "import h5py\n",
    "import matplotlib.pyplot as plt\n",
    "sys.path.append(\"/home/liponan/projects/gammanet/\")\n",
    "from gammanet.simulate import sim_detector_image\n"
   ]
  },
  {
   "cell_type": "markdown",
   "metadata": {},
   "source": [
    "## Generate a sample and visualize"
   ]
  },
  {
   "cell_type": "code",
   "execution_count": 2,
   "metadata": {},
   "outputs": [],
   "source": [
    "nx, ny   = 32, 32    # image size\n",
    "\n",
    "k_bar    = 0.01       # photons/px\n",
    "contrast = 0.9       # \n",
    "corr_len = 0.0       # px, 0.2\n",
    "sigma    = 2.0       # px\n",
    "epsilon_gain = 0.03  # adu\n",
    "epsilon_ped  = 0.05  # adu\n",
    "\n",
    "max_n_photons = 128\n"
   ]
  },
  {
   "cell_type": "code",
   "execution_count": 3,
   "metadata": {},
   "outputs": [],
   "source": [
    "img, coors = sim_detector_image(k_bar, contrast, corr_len, sigma, epsilon_gain, epsilon_ped,\n",
    "                                nx=nx, ny=ny, return_centers=True)\n"
   ]
  },
  {
   "cell_type": "code",
   "execution_count": 15,
   "metadata": {},
   "outputs": [
    {
     "data": {
      "image/png": "[encoded data removed]",
      "text/plain": [
       "<Figure size 864x720 with 2 Axes>"
      ]
     },
     "metadata": {
      "needs_background": "light"
     },
     "output_type": "display_data"
    }
   ],
   "source": [
    "fig = plt.figure()\n",
    "fig.set_size_inches(12, 10)\n",
    "plt.imshow(img, extent=((-0.5, nx-0.5, ny-0.5, -0.5)))\n",
    "plt.colorbar()\n",
    "for coor in coors:\n",
    "    plt.plot(coor[0], coor[1], 'kx')"
   ]
  },
  {
   "cell_type": "code",
   "execution_count": 160,
   "metadata": {},
   "outputs": [
    {
     "data": {
      "text/plain": [
       "array([[31.76167739, 12.34534011],\n",
       "       [ 3.42211164, 12.43415555],\n",
       "       [ 6.72314593, 12.13658909],\n",
       "       [ 5.75456226, 13.7608974 ],\n",
       "       [14.18492085,  9.87909859],\n",
       "       [ 5.6454555 , 30.77331985],\n",
       "       [25.56803519, 11.44204656],\n",
       "       [23.47823959, 22.18080279],\n",
       "       [24.59440055, 29.21823876],\n",
       "       [28.23495101, 21.08940495]])"
      ]
     },
     "execution_count": 160,
     "metadata": {},
     "output_type": "execute_result"
    }
   ],
   "source": [
    "coors"
   ]
  },
  {
   "cell_type": "markdown",
   "metadata": {},
   "source": [
    "## Generate n samples"
   ]
  },
  {
   "cell_type": "code",
   "execution_count": 12,
   "metadata": {},
   "outputs": [],
   "source": [
    "# n = 10240 # train \n",
    "n = 1024 # val/test\n",
    "m = int(2*nx*ny*k_bar)\n",
    "\n",
    "imgs = np.zeros( (n, ny, nx) )\n",
    "labels = np.zeros( (n, m, 2) )\n",
    "nhits = np.zeros( (n, ), dtype=np.int)"
   ]
  },
  {
   "cell_type": "code",
   "execution_count": 13,
   "metadata": {},
   "outputs": [],
   "source": [
    "for i in range(n):\n",
    "    img, coors = sim_detector_image(k_bar, contrast, corr_len, sigma, epsilon_gain, epsilon_ped,\n",
    "                                nx=nx, ny=ny, return_centers=True)\n",
    "    imgs[i,:,:] = img\n",
    "    labels[i,0:coors.shape[0],:] = coors\n",
    "    nhits[i] = coors.shape[0]"
   ]
  },
  {
   "cell_type": "code",
   "execution_count": 14,
   "metadata": {},
   "outputs": [],
   "source": [
    "# filename = \"train.h5\"\n",
    "# filename = \"val.h5\"\n",
    "filename = \"test.h5\"\n",
    "\n",
    "with h5py.File(filename, \"w\") as f:\n",
    "    ds_imgs = f.create_dataset(\"imgs\", (n, ny, nx), dtype=\"f\")\n",
    "    ds_imgs[:] = imgs[:]\n",
    "    ds_labels = f.create_dataset(\"labels\", (n, m, 2), dtype=\"f\")\n",
    "    ds_labels[:] = labels[:]\n",
    "    ds_nhits = f.create_dataset(\"nhits\", (n, ), dtype=\"i8\")\n",
    "    ds_nhits[:] = nhits[:]"
   ]
  },
  {
   "cell_type": "code",
   "execution_count": null,
   "metadata": {},
   "outputs": [],
   "source": []
  }
 ],
 "metadata": {
  "kernelspec": {
   "display_name": "Python 3",
   "language": "python",
   "name": "python3"
  },
  "language_info": {
   "codemirror_mode": {
    "name": "ipython",
    "version": 3
   },
   "file_extension": ".py",
   "mimetype": "text/x-python",
   "name": "python",
   "nbconvert_exporter": "python",
   "pygments_lexer": "ipython3",
   "version": "3.6.8"
  }
 },
 "nbformat": 4,
 "nbformat_minor": 2
}
